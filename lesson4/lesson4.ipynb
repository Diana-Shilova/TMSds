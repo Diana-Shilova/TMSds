{
 "cells": [
  {
   "cell_type": "markdown",
   "metadata": {},
   "source": [
    "#1"
   ]
  },
  {
   "cell_type": "code",
   "execution_count": 1,
   "metadata": {},
   "outputs": [
    {
     "name": "stdout",
     "output_type": "stream",
     "text": [
      "есть контакт!\n"
     ]
    }
   ],
   "source": [
    "def search_substr(subst, st):\n",
    "    if subst.lower() in st.lower():\n",
    "        return print('есть контакт!')\n",
    "    else:\n",
    "        return print ('мимо!')\n",
    "\n",
    "search_substr('кот', 'КоТейка')"
   ]
  },
  {
   "cell_type": "markdown",
   "metadata": {},
   "source": [
    "#2"
   ]
  },
  {
   "cell_type": "code",
   "execution_count": 2,
   "metadata": {},
   "outputs": [
    {
     "data": {
      "text/plain": [
       "[('e', 31), ('n', 26), ('s', 24)]"
      ]
     },
     "execution_count": 2,
     "metadata": {},
     "output_type": "execute_result"
    }
   ],
   "source": [
    "from collections import Counter\n",
    "\n",
    "def top_letter(string):\n",
    "    counter_top = Counter(string.replace(' ', '')).most_common(3)\n",
    "    return counter_top\n",
    "\n",
    "top_letter('The Qt GUI module provides classes for windowing system integration, event handling, OpenGL and OpenGL ES integration, 2D graphics, basic imaging, fonts, and text. These classes are used internally by Qt’s user interface technologies and can also be used directly, for instance to write applications using low-level OpenGL ES graphics APIs.')"
   ]
  },
  {
   "cell_type": "markdown",
   "metadata": {},
   "source": [
    "#3"
   ]
  },
  {
   "cell_type": "code",
   "execution_count": 3,
   "metadata": {},
   "outputs": [
    {
     "data": {
      "text/plain": [
       "{0: 1, 1: 1, 2: 1, 3: 1, 4: 1, 5: 1, 6: 1, 7: 1, 8: 1, 9: 1}"
      ]
     },
     "execution_count": 3,
     "metadata": {},
     "output_type": "execute_result"
    }
   ],
   "source": [
    "def count_it(sequence):\n",
    "    return dict(zip(sequence, (sequence.count(item) for item in sequence)))\n",
    "\n",
    "count_it([0, 1, 2, 3, 4, 5, 6, 7, 8, 9])"
   ]
  },
  {
   "cell_type": "markdown",
   "metadata": {},
   "source": [
    "#4"
   ]
  },
  {
   "cell_type": "code",
   "execution_count": 4,
   "metadata": {},
   "outputs": [
    {
     "data": {
      "text/plain": [
       "5.080476941635932"
      ]
     },
     "execution_count": 4,
     "metadata": {},
     "output_type": "execute_result"
    }
   ],
   "source": [
    "import math\n",
    "\n",
    "'(cos(e ^ x) + ln(1 + x) ^ 2 + sqr(e ^ cos(x) + sin ^ 2 * п * x) + sqr(1 / x) + cos(x ^ 2)) ^ sin(x)'\n",
    "\n",
    "integer = 1.79\n",
    "\n",
    "(\n",
    "math.cos(math.e ** integer) + \n",
    "math.log1p(integer) ** 2 + \n",
    "math.sqrt(math.exp(math.cos(integer)) + \n",
    "math.sin(integer) ** 2 * math.pi * integer) + \n",
    "math.sqrt(1 / integer) +\n",
    "math.cos(integer) ** 2\n",
    ") ** math.sin(integer)"
   ]
  }
 ],
 "metadata": {
  "kernelspec": {
   "display_name": "base",
   "language": "python",
   "name": "python3"
  },
  "language_info": {
   "codemirror_mode": {
    "name": "ipython",
    "version": 3
   },
   "file_extension": ".py",
   "mimetype": "text/x-python",
   "name": "python",
   "nbconvert_exporter": "python",
   "pygments_lexer": "ipython3",
   "version": "3.11.3"
  }
 },
 "nbformat": 4,
 "nbformat_minor": 2
}
