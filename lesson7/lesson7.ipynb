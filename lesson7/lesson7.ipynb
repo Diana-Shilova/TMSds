{
 "cells": [
  {
   "cell_type": "code",
   "execution_count": 148,
   "metadata": {},
   "outputs": [],
   "source": [
    "\"Создать класс Money для работы с денежными суммами.  Число должно быть представлено двумя полями: для рублей и для копеек.\"\n",
    "\"Копейки при выводе на экран должна быть отделена от целой части запятой. Реализовать сложение, вычитание, деление сумм, деление суммы на дробное число,\"\n",
    "\"умножение на дробное число и операции сравнения.\"\n",
    "\n",
    "class Money:\n",
    "\n",
    "    def __init__(self, rubles, coins, fix = 2.99):\n",
    "        self.rubles = rubles\n",
    "        self.coins = coins\n",
    "        self.fix = fix\n",
    "\n",
    "    def subtraction(self):\n",
    "        cash = int(self.rubles + self.coins) \n",
    "        cash = int(cash - self.fix * 100)\n",
    "        coin = int(cash % 100)\n",
    "\n",
    "        if (int(self.coins) - coin) < 0:\n",
    "            rub = round(cash / 100 - 1)\n",
    "        if coin < 1000 and coin > 0 and cash != 0:\n",
    "            rub = round(cash / 100)\n",
    "        else:\n",
    "            rub = 0\n",
    "            \n",
    "        if coin < 10 and cash != 0:\n",
    "            return print(f'your cash after subtraction = {round(cash / 100)},00')\n",
    "        if coin < 10:\n",
    "            return print(f'your cash after subtraction = {rub},0{coin}')\n",
    "        if cash == 0:\n",
    "            return print(f'your cash after subtraction = 00,00')\n",
    "        else:\n",
    "            return print(f'your cash after subtraction = {rub},{coin}')\n",
    "\n",
    "    def addition(self):\n",
    "        cash = int(self.rubles + self.coins)\n",
    "        cash = cash + self.fix * 100\n",
    "        coin = int(cash % 100)\n",
    "        rub = int(cash / 100)\n",
    "        return print(f'your cash after addition = {rub},{coin}')   \n",
    "    \n",
    "    def devide(self):\n",
    "        cash = int(self.rubles + self.coins) / 100 * self.fix\n",
    "        rub = int(cash)\n",
    "        coin = int((cash - int(cash)) * 100)\n",
    "        return print(f'your cash after devide = {rub},{coin}')         \n",
    "    \n",
    "    def multiply(self):\n",
    "        cash = int(self.rubles + self.coins) / 100 / self.fix\n",
    "        rub = int(cash)\n",
    "        coin = int((cash -int(cash)) * 100)\n",
    "        if coin < 10:\n",
    "            return print(f'your cash after multiply = {rub},0{coin}' )   \n",
    "        else: \n",
    "            return print(f'your cash after multiply = {rub},{coin}' )\n",
    "    \n",
    "    def compere(self):\n",
    "        cash = int(self.rubles + self.coins)\n",
    "        fix = (self.fix * 100)\n",
    "        fix_rubles = int(self.fix)\n",
    "        fix_counts = round(fix - int(self.fix) * 100)\n",
    "\n",
    "        if cash == fix:\n",
    "            return print(f'{int(self.rubles)},{self.coins} = {fix_rubles},{fix_counts}')\n",
    "        if cash > fix:\n",
    "            return print(f'{self.rubles},{self.coins} > {fix_rubles},{fix_counts}')\n",
    "        else:\n",
    "            return print(f'{self.rubles},{self.coins} < {fix_rubles},{fix_counts}')"
   ]
  },
  {
   "cell_type": "code",
   "execution_count": 149,
   "metadata": {},
   "outputs": [
    {
     "name": "stdout",
     "output_type": "stream",
     "text": [
      "your cash after subtraction = 19,00\n",
      "your cash after addition = 24,98\n",
      "your cash after multiply = 7,35\n",
      "your cash after devide = 65,75\n",
      "21,99 > 2,99\n"
     ]
    }
   ],
   "source": [
    "d = Money('21','99')\n",
    "d.subtraction()\n",
    "d.addition()\n",
    "d.multiply()\n",
    "d.devide()\n",
    "d.compere()"
   ]
  },
  {
   "cell_type": "code",
   "execution_count": 171,
   "metadata": {},
   "outputs": [],
   "source": [
    "\"Создать класс матрица и реализовать алгоритмы математических операций над матрицами\"\n",
    "\"(сложение друг с другом, умножение на скалярную величину).\"\n",
    "\n",
    "class Arr():\n",
    "    \n",
    "    def __init__(self, x, y):\n",
    "        self.x = x\n",
    "        self.y = y\n",
    "\n",
    "    def GetMatrix(self):\n",
    "        matrix = []\n",
    "        counter = 100\n",
    "\n",
    "        for i in range(self.x):\n",
    "            inner_matrix = []\n",
    "\n",
    "            for j in range(self.y):\n",
    "                inner_matrix.append(counter)\n",
    "                counter += 1\n",
    "            if i % 2 == 1:\n",
    "                inner_matrix.reverse()\n",
    "            matrix.append(inner_matrix)\n",
    "            \n",
    "        for row in matrix:\n",
    "            print(row)\n",
    "\n",
    "    def SumMatrix(self):\n",
    "        matrix_first = []\n",
    "        counter = 100\n",
    "\n",
    "        for i in range(self.x):\n",
    "            inner_matrix = []\n",
    "\n",
    "            for j in range(self.y):\n",
    "                inner_matrix.append(counter)\n",
    "                counter += 1\n",
    "            if i % 2 == 1:\n",
    "                inner_matrix.reverse()\n",
    "            matrix_first.append(inner_matrix)\n",
    "\n",
    "        matrix_second = []\n",
    "        counter = 100\n",
    "\n",
    "        for i in range(self.x):\n",
    "            inner_matrix = []\n",
    "            for j in range(self.y):\n",
    "                inner_matrix.append(counter)\n",
    "                counter += 1\n",
    "            if i % 2 == 0:\n",
    "                inner_matrix.reverse()\n",
    "            matrix_second.append(inner_matrix)\n",
    "\n",
    "        result = [[matrix_first[i][j] + matrix_second[i][j]  for j in range (self.y)] for i in range(self.x)] \n",
    "   \n",
    "        for row in result: \n",
    "            print(row)\n",
    "\n",
    "    def MultiplyMatrix(self):\n",
    "\n",
    "        matrix_first = []\n",
    "        counter = 100\n",
    "\n",
    "        for i in range(self.x):\n",
    "            inner_matrix = []\n",
    "\n",
    "            for j in range(self.y):\n",
    "                inner_matrix.append(counter)\n",
    "                counter += 1\n",
    "            if i % 2 == 1:\n",
    "                inner_matrix.reverse()\n",
    "            matrix_first.append(inner_matrix)\n",
    "\n",
    "        matrix_second = []\n",
    "        counter = 100\n",
    "\n",
    "        for i in range(self.x):\n",
    "            inner_matrix = []\n",
    "            for j in range(self.y):\n",
    "                inner_matrix.append(counter)\n",
    "                counter += 1\n",
    "            if i % 2 == 0:\n",
    "                inner_matrix.reverse()\n",
    "            matrix_second.append(inner_matrix)\n",
    "\n",
    "        result = [[matrix_first[i][j] * matrix_second[i][j]  for j in range (self.y)] for i in range(self.x)] \n",
    "   \n",
    "        for row in result: \n",
    "            print(row)\n",
    "            "
   ]
  },
  {
   "cell_type": "code",
   "execution_count": 172,
   "metadata": {},
   "outputs": [
    {
     "name": "stdout",
     "output_type": "stream",
     "text": [
      "[100, 101, 102, 103, 104, 105, 106]\n",
      "[113, 112, 111, 110, 109, 108, 107]\n",
      "[114, 115, 116, 117, 118, 119, 120]\n",
      "[127, 126, 125, 124, 123, 122, 121]\n",
      "[128, 129, 130, 131, 132, 133, 134]\n"
     ]
    }
   ],
   "source": [
    "b = Arr(5, 7)\n",
    "b.GetMatrix()"
   ]
  },
  {
   "cell_type": "code",
   "execution_count": 173,
   "metadata": {},
   "outputs": [
    {
     "name": "stdout",
     "output_type": "stream",
     "text": [
      "[206, 206, 206, 206, 206, 206, 206]\n",
      "[220, 220, 220, 220, 220, 220, 220]\n",
      "[234, 234, 234, 234, 234, 234, 234]\n",
      "[248, 248, 248, 248, 248, 248, 248]\n",
      "[262, 262, 262, 262, 262, 262, 262]\n"
     ]
    }
   ],
   "source": [
    "b.SumMatrix()"
   ]
  },
  {
   "cell_type": "code",
   "execution_count": 174,
   "metadata": {},
   "outputs": [
    {
     "name": "stdout",
     "output_type": "stream",
     "text": [
      "[10600, 10605, 10608, 10609, 10608, 10605, 10600]\n",
      "[12091, 12096, 12099, 12100, 12099, 12096, 12091]\n",
      "[13680, 13685, 13688, 13689, 13688, 13685, 13680]\n",
      "[15367, 15372, 15375, 15376, 15375, 15372, 15367]\n",
      "[17152, 17157, 17160, 17161, 17160, 17157, 17152]\n"
     ]
    }
   ],
   "source": [
    "b.MultiplyMatrix()"
   ]
  },
  {
   "cell_type": "code",
   "execution_count": 157,
   "metadata": {},
   "outputs": [],
   "source": [
    "\"Example, how to work Class\"\n",
    "\n",
    "class Employee():\n",
    " \n",
    "    def __init__(self):\n",
    "        self.__name = ''\n",
    " \n",
    "    #@property\n",
    "    def get_name(self):\n",
    "        return self.__name\n",
    "    \n",
    "    #@setter\n",
    "    def set_name(self, name):\n",
    "        self.__name = name\n",
    " \n",
    "    def display_info(self):\n",
    "        return print(f\"Name: {self.__name} \")\n",
    " \n",
    "    def work(self):\n",
    "        return print(f\"{self.__name} works in X company\")\n",
    "    \n",
    "    def Question(self):\n",
    "        return print(\"Do we have a meeting today?\")\n",
    "    \n",
    "class Chief(Employee):\n",
    "\n",
    "    def Question(self):\n",
    "        return print(\"Did you know about that? We have meeting today with our stakeholders.\")        \n",
    "        "
   ]
  },
  {
   "cell_type": "code",
   "execution_count": 158,
   "metadata": {},
   "outputs": [
    {
     "name": "stdout",
     "output_type": "stream",
     "text": [
      "Name: Mark \n",
      "Mark works in X company\n",
      "Do we have a meeting today?\n",
      "Name: Gordan \n",
      "Gordan works in X company\n",
      "Did you know about that? We have meeting today with our stakeholders.\n"
     ]
    }
   ],
   "source": [
    "e = Employee()\n",
    "e.get_name()\n",
    "e.set_name('Mark')\n",
    "e.display_info()\n",
    "e.work()\n",
    "e.Question()\n",
    "\n",
    "c = Chief()\n",
    "c.get_name()\n",
    "c.set_name('Gordan')\n",
    "c.display_info()\n",
    "c.work()\n",
    "c.Question()"
   ]
  }
 ],
 "metadata": {
  "kernelspec": {
   "display_name": "base",
   "language": "python",
   "name": "python3"
  },
  "language_info": {
   "codemirror_mode": {
    "name": "ipython",
    "version": 3
   },
   "file_extension": ".py",
   "mimetype": "text/x-python",
   "name": "python",
   "nbconvert_exporter": "python",
   "pygments_lexer": "ipython3",
   "version": "3.11.3"
  }
 },
 "nbformat": 4,
 "nbformat_minor": 2
}
