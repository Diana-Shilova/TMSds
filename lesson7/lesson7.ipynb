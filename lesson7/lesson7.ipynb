{
 "cells": [
  {
   "cell_type": "code",
   "execution_count": 11,
   "metadata": {},
   "outputs": [],
   "source": [
    "\"Создать класс Money для работы с денежными суммами.  Число должно быть представлено двумя полями: для рублей и для копеек.\"\n",
    "\"Копейки при выводе на экран должна быть отделена от целой части запятой. Реализовать сложение, вычитание, деление сумм, деление суммы на дробное число,\"\n",
    "\"умножение на дробное число и операции сравнения.\"\n",
    "\n",
    "class Money:\n",
    "\n",
    "    def __init__(self, rubles, coins, fix = 2.99) -> str:\n",
    "        self.rubles = rubles\n",
    "        self.coins = coins\n",
    "        self.fix = fix\n",
    "\n",
    "    def subtraction(self):\n",
    "        cash = int(self.rubles + self.coins) \n",
    "        cash = cash - self.fix * 100\n",
    "        coin = int(cash % 100)\n",
    "\n",
    "        if (int(self.coins) - coin) < 0:\n",
    "            rub = round(cash / 100 - 1)\n",
    "        if coin < 1000 and coin > 0 :\n",
    "            rub = round(cash / 100)\n",
    "            \n",
    "        if coin < 10:\n",
    "            return print(f'your cash after subtraction = {rub},0{coin}')\n",
    "        else:\n",
    "            return print(f'your cash after subtraction = {rub},{coin}')\n",
    "\n",
    "    def addition(self):\n",
    "        cash = int(self.rubles + self.coins)\n",
    "        cash = cash + self.fix * 100\n",
    "        coin = int(cash % 100)\n",
    "        rub = int(cash / 100)\n",
    "        return print(f'your cash after addition = {rub},{coin}')   \n",
    "    \n",
    "    def devide(self):\n",
    "        cash = int(self.rubles + self.coins) / 100 * self.fix\n",
    "        rub = int(cash)\n",
    "        coin = int((cash - int(cash)) * 100)\n",
    "        return print(f'your cash after devide = {rub},{coin}')         \n",
    "    \n",
    "    def multiply(self):\n",
    "        cash = int(self.rubles + self.coins) / 100 / self.fix\n",
    "        rub = int(cash)\n",
    "        coin = int((cash -int(cash)) * 100)\n",
    "        return print(f'your cash after multiply = {rub},{coin}' )  \n",
    "    \n",
    "    def compere(self):\n",
    "        cash = int(self.rubles + self.coins)\n",
    "        fix = (self.fix * 100)\n",
    "        fix_rubles = int(self.fix)\n",
    "        fix_counts = round(fix - int(self.fix) * 100) # 299 - 200\n",
    "\n",
    "        if cash == fix:\n",
    "            return print(f'{self.rubles},{self.coins} = {self.fix}')\n",
    "        if cash != fix:\n",
    "            return print(f'{self.rubles},{self.coins} <> {fix_rubles},{fix_counts}')\n",
    "        if cash > fix:\n",
    "            return print(f'{self.rubles},{self.coins} > {fix_rubles},{fix_counts}')\n",
    "        else:\n",
    "            return print(f'{self.rubles},{self.coins} < {fix_rubles},{fix_counts}')\n"
   ]
  },
  {
   "cell_type": "code",
   "execution_count": 12,
   "metadata": {},
   "outputs": [
    {
     "name": "stdout",
     "output_type": "stream",
     "text": [
      "your cash after subtraction = 7,01\n",
      "your cash after addition = 12,99\n",
      "your cash after devide = 29,90\n",
      "your cash after multiply = 3,34\n",
      "10,00 <> 2,99\n"
     ]
    }
   ],
   "source": [
    "d = Money('10','00')\n",
    "d.subtraction()\n",
    "d.addition()\n",
    "d.devide()\n",
    "d.multiply()\n",
    "d.compere()"
   ]
  },
  {
   "cell_type": "code",
   "execution_count": 13,
   "metadata": {},
   "outputs": [],
   "source": [
    "\"Создать класс матрица и реализовать алгоритмы математических операций над матрицами\"\n",
    "\"(сложение друг с другом, умножение на скалярную величину).\"\n",
    "\n",
    "class Arr():\n",
    "    \n",
    "    def __init__(self, x, y) -> list:\n",
    "        self.x = x\n",
    "        self.y = y\n",
    "\n",
    "    def GetMatrix(self):\n",
    "        matrix = []\n",
    "        counter = 100\n",
    "\n",
    "        for i in range(self.x):\n",
    "            inner_matrix = []\n",
    "\n",
    "            for j in range(self.y):\n",
    "                inner_matrix.append(counter)\n",
    "                counter += 1\n",
    "            if i % 2 == 1:\n",
    "                inner_matrix.reverse()\n",
    "            matrix.append(inner_matrix)\n",
    "            \n",
    "        for row in matrix:\n",
    "            print(row)\n",
    "\n",
    "    def GetMatrix1(self):\n",
    "        matrix = []\n",
    "        counter = 100\n",
    "\n",
    "        for i in range(self.x):\n",
    "            inner_matrix = []\n",
    "\n",
    "            for j in range(self.y):\n",
    "                inner_matrix.append(counter)\n",
    "                counter += 1\n",
    "            if i % 2 == 0:\n",
    "                inner_matrix.reverse()\n",
    "            matrix.append(inner_matrix)\n",
    "            \n",
    "        for row in matrix:\n",
    "            print(row)\n",
    "\n",
    "\n",
    "    def SumMatrix(self):\n",
    "        matrix_first = []\n",
    "        counter = 100\n",
    "\n",
    "        for i in range(self.x):\n",
    "            inner_matrix = []\n",
    "\n",
    "            for j in range(self.y):\n",
    "                inner_matrix.append(counter)\n",
    "                counter += 1\n",
    "            if i % 2 == 1:\n",
    "                inner_matrix.reverse()\n",
    "            matrix_first.append(inner_matrix)\n",
    "\n",
    "        matrix_second = []\n",
    "        counter = 200\n",
    "\n",
    "        for i in range(self.x):\n",
    "            inner_matrix = []\n",
    "            for j in range(self.y):\n",
    "                inner_matrix.append(counter)\n",
    "                counter += 1\n",
    "            if i % 2 == 0:\n",
    "                inner_matrix.reverse()\n",
    "            matrix_second.append(inner_matrix)\n",
    "\n",
    "        result = [[matrix_first[i][j] + matrix_second[i][j]  for j in range (self.y)] for i in range(self.x)] \n",
    "   \n",
    "        for row in result: \n",
    "            print(row)\n",
    "\n",
    "    def MultiplyMatrix(self):\n",
    "\n",
    "        matrix_first = []\n",
    "        counter = 100\n",
    "\n",
    "        for i in range(self.x):\n",
    "            inner_matrix = []\n",
    "\n",
    "            for j in range(self.y):\n",
    "                inner_matrix.append(counter)\n",
    "                counter += 1\n",
    "            if i % 2 == 1:\n",
    "                inner_matrix.reverse()\n",
    "            matrix_first.append(inner_matrix)\n",
    "\n",
    "        matrix_second = []\n",
    "        counter = 200\n",
    "\n",
    "        for i in range(self.x):\n",
    "            inner_matrix = []\n",
    "            for j in range(self.y):\n",
    "                inner_matrix.append(counter)\n",
    "                counter += 1\n",
    "            if i % 2 == 0:\n",
    "                inner_matrix.reverse()\n",
    "            matrix_second.append(inner_matrix)\n",
    "\n",
    "        result = [[matrix_first[i][j] * matrix_second[i][j]  for j in range (self.y)] for i in range(self.x)] \n",
    "   \n",
    "        for row in result: \n",
    "            print(row)\n",
    "            "
   ]
  },
  {
   "cell_type": "code",
   "execution_count": 14,
   "metadata": {},
   "outputs": [
    {
     "name": "stdout",
     "output_type": "stream",
     "text": [
      "[100, 101, 102, 103, 104]\n",
      "[109, 108, 107, 106, 105]\n",
      "[110, 111, 112, 113, 114]\n",
      "[119, 118, 117, 116, 115]\n",
      "[120, 121, 122, 123, 124]\n"
     ]
    }
   ],
   "source": [
    "b = Arr(5, 5)\n",
    "b.GetMatrix()"
   ]
  },
  {
   "cell_type": "code",
   "execution_count": 15,
   "metadata": {},
   "outputs": [
    {
     "name": "stdout",
     "output_type": "stream",
     "text": [
      "[304, 304, 304, 304, 304]\n",
      "[314, 314, 314, 314, 314]\n",
      "[324, 324, 324, 324, 324]\n",
      "[334, 334, 334, 334, 334]\n",
      "[344, 344, 344, 344, 344]\n"
     ]
    }
   ],
   "source": [
    "b.SumMatrix()"
   ]
  },
  {
   "cell_type": "code",
   "execution_count": 16,
   "metadata": {},
   "outputs": [
    {
     "name": "stdout",
     "output_type": "stream",
     "text": [
      "[20400, 20503, 20604, 20703, 20800]\n",
      "[22345, 22248, 22149, 22048, 21945]\n",
      "[23540, 23643, 23744, 23843, 23940]\n",
      "[25585, 25488, 25389, 25288, 25185]\n",
      "[26880, 26983, 27084, 27183, 27280]\n"
     ]
    }
   ],
   "source": [
    "b.MultiplyMatrix()"
   ]
  },
  {
   "cell_type": "code",
   "execution_count": 17,
   "metadata": {},
   "outputs": [
    {
     "name": "stdout",
     "output_type": "stream",
     "text": [
      "[104, 103, 102, 101, 100]\n",
      "[105, 106, 107, 108, 109]\n",
      "[114, 113, 112, 111, 110]\n",
      "[115, 116, 117, 118, 119]\n",
      "[124, 123, 122, 121, 120]\n"
     ]
    }
   ],
   "source": [
    "b.GetMatrix1()"
   ]
  },
  {
   "cell_type": "code",
   "execution_count": 17,
   "metadata": {},
   "outputs": [],
   "source": [
    "\"Необходимо реализовать набор операций над одномерными и двумерными структурами.\" \n",
    "\"Каждой структуре необходимо выделить свой класс. При описании классов использовать принципы ООП.\"\n",
    "\n",
    "class Employee():\n",
    " \n",
    "    def __init__(self):\n",
    "        self.__name = ''\n",
    " \n",
    "    #@property\n",
    "    def get_name(self):\n",
    "        return self.__name\n",
    "    \n",
    "    #setter\n",
    "    def set_name(self, name):\n",
    "        self.__name = name\n",
    " \n",
    "    def display_info(self):\n",
    "        return print(f\"Name: {self.__name} \")\n",
    " \n",
    "    def work(self):\n",
    "        return print(f\"{self.__name} works here\")\n",
    "    \n",
    "    def Question(self):\n",
    "        return print(\"Do we have a meeting today?\")\n",
    "    \n",
    "class Chief(Employee):\n",
    "\n",
    "    def Question(self):\n",
    "        return print(\"Did you know about that? We have meeting today with our stakeholders.\")        \n",
    "        "
   ]
  },
  {
   "cell_type": "code",
   "execution_count": 18,
   "metadata": {},
   "outputs": [
    {
     "name": "stdout",
     "output_type": "stream",
     "text": [
      "Name: Mark \n",
      "Mark works here\n",
      "Do we have a meeting today?\n",
      "Name: Gordan \n",
      "Gordan works here\n",
      "Did you know about that? We have meeting today with our stakeholders.\n"
     ]
    }
   ],
   "source": [
    "e = Employee()\n",
    "e.get_name()\n",
    "e.set_name('Mark')\n",
    "e.display_info()\n",
    "e.work()\n",
    "e.Question()\n",
    "\n",
    "c = Chief()\n",
    "c.get_name()\n",
    "c.set_name('Gordan')\n",
    "c.display_info()\n",
    "c.work()\n",
    "c.Question()"
   ]
  }
 ],
 "metadata": {
  "kernelspec": {
   "display_name": "base",
   "language": "python",
   "name": "python3"
  },
  "language_info": {
   "codemirror_mode": {
    "name": "ipython",
    "version": 3
   },
   "file_extension": ".py",
   "mimetype": "text/x-python",
   "name": "python",
   "nbconvert_exporter": "python",
   "pygments_lexer": "ipython3",
   "version": "3.11.3"
  }
 },
 "nbformat": 4,
 "nbformat_minor": 2
}
