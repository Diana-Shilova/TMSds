{
 "cells": [
  {
   "cell_type": "markdown",
   "metadata": {},
   "source": [
    "#1"
   ]
  },
  {
   "cell_type": "code",
   "execution_count": 16,
   "metadata": {},
   "outputs": [
    {
     "data": {
      "text/plain": [
       "['Robing', 'Sight']"
      ]
     },
     "execution_count": 16,
     "metadata": {},
     "output_type": "execute_result"
    }
   ],
   "source": [
    "def str_split(string: str) -> list:\n",
    "    return string.split()\n",
    "\n",
    "str_split('Robing Sight')"
   ]
  },
  {
   "cell_type": "markdown",
   "metadata": {},
   "source": [
    "#2"
   ]
  },
  {
   "cell_type": "code",
   "execution_count": 12,
   "metadata": {},
   "outputs": [],
   "source": [
    "import math"
   ]
  },
  {
   "cell_type": "code",
   "execution_count": 19,
   "metadata": {},
   "outputs": [
    {
     "data": {
      "text/plain": [
       "1"
      ]
     },
     "execution_count": 19,
     "metadata": {},
     "output_type": "execute_result"
    }
   ],
   "source": [
    "time = 3\n",
    "\n",
    "def get_water(time: int) -> int:\n",
    "    litres = time * 0.5\n",
    "    return math.floor(litres)\n",
    "\n",
    "get_water(time)"
   ]
  },
  {
   "cell_type": "markdown",
   "metadata": {},
   "source": [
    "#3"
   ]
  },
  {
   "cell_type": "code",
   "execution_count": 12,
   "metadata": {},
   "outputs": [
    {
     "data": {
      "text/plain": [
       "[5, 4, 3, 2, 1]"
      ]
     },
     "execution_count": 12,
     "metadata": {},
     "output_type": "execute_result"
    }
   ],
   "source": [
    "count = 5\n",
    "\n",
    "def get_list(count: int) -> list:\n",
    "\n",
    "    lst = []\n",
    "    counter = 0\n",
    "\n",
    "    for value in range(count):\n",
    "        counter += 1\n",
    "        value = (count + 1) - counter\n",
    "        lst.append(value)\n",
    "    return lst\n",
    "\n",
    "get_list(count)\n"
   ]
  },
  {
   "cell_type": "markdown",
   "metadata": {},
   "source": [
    "#4"
   ]
  },
  {
   "cell_type": "code",
   "execution_count": 17,
   "metadata": {},
   "outputs": [
    {
     "data": {
      "text/plain": [
       "'Your century is 21'"
      ]
     },
     "execution_count": 17,
     "metadata": {},
     "output_type": "execute_result"
    }
   ],
   "source": [
    "def get_century(year: int) -> int:\n",
    "    try:\n",
    "        if not year:\n",
    "            return 1\n",
    "        return f'Your century is {year // 100 + 1}'\n",
    "    except TypeError:\n",
    "        return 'It is not integer!'\n",
    "\n",
    "get_century(2021)"
   ]
  },
  {
   "cell_type": "markdown",
   "metadata": {},
   "source": [
    "#5"
   ]
  },
  {
   "cell_type": "code",
   "execution_count": 14,
   "metadata": {},
   "outputs": [
    {
     "data": {
      "text/plain": [
       "[1, 2, 3, 4, 5]"
      ]
     },
     "execution_count": 14,
     "metadata": {},
     "output_type": "execute_result"
    }
   ],
   "source": [
    "def reversed(value: int) -> list:\n",
    "\n",
    "    lst_new = []\n",
    "\n",
    "    for _ in range(len(str(value))):\n",
    "        value_new = abs(value) % 10\n",
    "        value = abs(value) // 10\n",
    "        lst_new.append(value_new)\n",
    "    return lst_new\n",
    "\n",
    "reversed(54321)"
   ]
  },
  {
   "cell_type": "markdown",
   "metadata": {},
   "source": [
    "#6"
   ]
  },
  {
   "cell_type": "code",
   "execution_count": 2,
   "metadata": {},
   "outputs": [
    {
     "data": {
      "text/plain": [
       "[[1, 2, 3, 4, 5, 6, 7, 8, 9, 10, 11, 12],\n",
       " [24, 23, 22, 21, 20, 19, 18, 17, 16, 15, 14, 13],\n",
       " [25, 26, 27, 28, 29, 30, 31, 32, 33, 34, 35, 36],\n",
       " [48, 47, 46, 45, 44, 43, 42, 41, 40, 39, 38, 37],\n",
       " [49, 50, 51, 52, 53, 54, 55, 56, 57, 58, 59, 60],\n",
       " [72, 71, 70, 69, 68, 67, 66, 65, 64, 63, 62, 61],\n",
       " [73, 74, 75, 76, 77, 78, 79, 80, 81, 82, 83, 84],\n",
       " [96, 95, 94, 93, 92, 91, 90, 89, 88, 87, 86, 85],\n",
       " [97, 98, 99, 100, 101, 102, 103, 104, 105, 106, 107, 108],\n",
       " [120, 119, 118, 117, 116, 115, 114, 113, 112, 111, 110, 109],\n",
       " [121, 122, 123, 124, 125, 126, 127, 128, 129, 130, 131, 132],\n",
       " [144, 143, 142, 141, 140, 139, 138, 137, 136, 135, 134, 133]]"
      ]
     },
     "execution_count": 2,
     "metadata": {},
     "output_type": "execute_result"
    }
   ],
   "source": [
    "def get_matrix_2(size: int):\n",
    "    matrix = []\n",
    "    counter = 1\n",
    "\n",
    "    for i in range(size):\n",
    "        inner_matrix = []\n",
    "\n",
    "        for j in range(size):\n",
    "            inner_matrix.append(counter)\n",
    "            counter += 1\n",
    "        if i % 2 == 1:\n",
    "            inner_matrix.reverse()\n",
    "        matrix.append(inner_matrix)\n",
    "\n",
    "    return matrix\n",
    "\n",
    "get_matrix_2(12)"
   ]
  },
  {
   "cell_type": "code",
   "execution_count": 3,
   "metadata": {},
   "outputs": [
    {
     "data": {
      "text/plain": [
       "[[1, 22, 23, 44, 45, 66, 67, 88, 89, 110, 111],\n",
       " [2, 21, 24, 43, 46, 65, 68, 87, 90, 109, 112],\n",
       " [3, 20, 25, 42, 47, 64, 69, 86, 91, 108, 113],\n",
       " [4, 19, 26, 41, 48, 63, 70, 85, 92, 107, 114],\n",
       " [5, 18, 27, 40, 49, 62, 71, 84, 93, 106, 115],\n",
       " [6, 17, 28, 39, 50, 61, 72, 83, 94, 105, 116],\n",
       " [7, 16, 29, 38, 51, 60, 73, 82, 95, 104, 117],\n",
       " [8, 15, 30, 37, 52, 59, 74, 81, 96, 103, 118],\n",
       " [9, 14, 31, 36, 53, 58, 75, 80, 97, 102, 119],\n",
       " [10, 13, 32, 35, 54, 57, 76, 79, 98, 101, 120],\n",
       " [11, 12, 33, 34, 55, 56, 77, 78, 99, 100, 121]]"
      ]
     },
     "execution_count": 3,
     "metadata": {},
     "output_type": "execute_result"
    }
   ],
   "source": [
    "def get_matrix(size: int):\n",
    "    matrix = []\n",
    "\n",
    "    for i in range(size):\n",
    "        inner_matrix = []\n",
    "\n",
    "        for j in range(size):\n",
    "            if j % 2 == 0:\n",
    "                number = j // 2 * 2 * size + i + 1\n",
    "            else:\n",
    "                number = (j // 2 + 1) * 2 * size - i\n",
    "            inner_matrix.append(number)\n",
    "\n",
    "        matrix.append(inner_matrix)\n",
    "\n",
    "    return matrix\n",
    "\n",
    "get_matrix(11)"
   ]
  },
  {
   "cell_type": "code",
   "execution_count": null,
   "metadata": {},
   "outputs": [],
   "source": []
  }
 ],
 "metadata": {
  "kernelspec": {
   "display_name": "base",
   "language": "python",
   "name": "python3"
  },
  "language_info": {
   "codemirror_mode": {
    "name": "ipython",
    "version": 3
   },
   "file_extension": ".py",
   "mimetype": "text/x-python",
   "name": "python",
   "nbconvert_exporter": "python",
   "pygments_lexer": "ipython3",
   "version": "3.11.3"
  }
 },
 "nbformat": 4,
 "nbformat_minor": 2
}
