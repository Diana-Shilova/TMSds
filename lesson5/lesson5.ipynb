{
 "cells": [
  {
   "cell_type": "markdown",
   "metadata": {},
   "source": [
    "#1"
   ]
  },
  {
   "cell_type": "code",
   "execution_count": 16,
   "metadata": {},
   "outputs": [
    {
     "data": {
      "text/plain": [
       "['Robing', 'Sight']"
      ]
     },
     "execution_count": 16,
     "metadata": {},
     "output_type": "execute_result"
    }
   ],
   "source": [
    "def str_split(string: str) -> list:\n",
    "    return string.split()\n",
    "\n",
    "str_split('Robing Sight')"
   ]
  },
  {
   "cell_type": "markdown",
   "metadata": {},
   "source": [
    "#2"
   ]
  },
  {
   "cell_type": "code",
   "execution_count": 12,
   "metadata": {},
   "outputs": [],
   "source": [
    "import math"
   ]
  },
  {
   "cell_type": "code",
   "execution_count": 19,
   "metadata": {},
   "outputs": [
    {
     "data": {
      "text/plain": [
       "1"
      ]
     },
     "execution_count": 19,
     "metadata": {},
     "output_type": "execute_result"
    }
   ],
   "source": [
    "time = 3\n",
    "\n",
    "def get_water(time: int) -> int:\n",
    "    litres = time * 0.5\n",
    "    return math.floor(litres)\n",
    "\n",
    "get_water(time)"
   ]
  },
  {
   "cell_type": "markdown",
   "metadata": {},
   "source": [
    "#3"
   ]
  },
  {
   "cell_type": "code",
   "execution_count": 12,
   "metadata": {},
   "outputs": [
    {
     "data": {
      "text/plain": [
       "[5, 4, 3, 2, 1]"
      ]
     },
     "execution_count": 12,
     "metadata": {},
     "output_type": "execute_result"
    }
   ],
   "source": [
    "count = 5\n",
    "\n",
    "def get_list(count: int) -> list:\n",
    "\n",
    "    lst = []\n",
    "    counter = 0\n",
    "\n",
    "    for value in range(count):\n",
    "        counter += 1\n",
    "        value = (count + 1) - counter\n",
    "        lst.append(value)\n",
    "    return lst\n",
    "\n",
    "get_list(count)\n"
   ]
  },
  {
   "cell_type": "markdown",
   "metadata": {},
   "source": [
    "#4"
   ]
  },
  {
   "cell_type": "code",
   "execution_count": 17,
   "metadata": {},
   "outputs": [
    {
     "data": {
      "text/plain": [
       "'Your century is 21'"
      ]
     },
     "execution_count": 17,
     "metadata": {},
     "output_type": "execute_result"
    }
   ],
   "source": [
    "def get_century(year: int) -> int:\n",
    "    try:\n",
    "        if not year:\n",
    "            return 1\n",
    "        return f'Your century is {year // 100 + 1}'\n",
    "    except TypeError:\n",
    "        return 'It is not integer!'\n",
    "\n",
    "get_century(2021)"
   ]
  },
  {
   "cell_type": "markdown",
   "metadata": {},
   "source": [
    "#5"
   ]
  },
  {
   "cell_type": "code",
   "execution_count": 14,
   "metadata": {},
   "outputs": [
    {
     "data": {
      "text/plain": [
       "[1, 2, 3, 4, 5]"
      ]
     },
     "execution_count": 14,
     "metadata": {},
     "output_type": "execute_result"
    }
   ],
   "source": [
    "def reversed(value: int) -> list:\n",
    "\n",
    "    lst_new = []\n",
    "\n",
    "    for _ in range(len(str(value))):\n",
    "        value_new = abs(value) % 10\n",
    "        value = abs(value) // 10\n",
    "        lst_new.append(value_new)\n",
    "    return lst_new\n",
    "\n",
    "reversed(54321)"
   ]
  },
  {
   "cell_type": "markdown",
   "metadata": {},
   "source": [
    "#6"
   ]
  },
  {
   "cell_type": "code",
   "execution_count": 10,
   "metadata": {},
   "outputs": [
    {
     "data": {
      "text/plain": [
       "[[11, 12, 13, 14, 15],\n",
       " [16, 17, 18, 19, 20],\n",
       " [21, 22, 23, 24, 25],\n",
       " [26, 27, 28, 29, 30],\n",
       " [31, 32, 33, 34, 35]]"
      ]
     },
     "execution_count": 10,
     "metadata": {},
     "output_type": "execute_result"
    }
   ],
   "source": [
    "def get_matrix(x, y: int) -> list:\n",
    "\n",
    "    lst=[]\n",
    "    counter = 10\n",
    "\n",
    "    for i in range(x):\n",
    "        temp = []\n",
    "        for j in range(y):\n",
    "            counter += 1\n",
    "            temp.append(counter)\n",
    "        lst.append(temp)\n",
    "    return lst\n",
    "\n",
    "get_matrix(5, 5)"
   ]
  }
 ],
 "metadata": {
  "kernelspec": {
   "display_name": "base",
   "language": "python",
   "name": "python3"
  },
  "language_info": {
   "codemirror_mode": {
    "name": "ipython",
    "version": 3
   },
   "file_extension": ".py",
   "mimetype": "text/x-python",
   "name": "python",
   "nbconvert_exporter": "python",
   "pygments_lexer": "ipython3",
   "version": "3.11.3"
  }
 },
 "nbformat": 4,
 "nbformat_minor": 2
}
