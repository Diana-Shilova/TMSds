{
 "cells": [
  {
   "cell_type": "markdown",
   "metadata": {},
   "source": [
    "#1"
   ]
  },
  {
   "cell_type": "code",
   "execution_count": 1,
   "metadata": {},
   "outputs": [
    {
     "data": {
      "text/plain": [
       "' Your max number is: 9. Your min number is: 1'"
      ]
     },
     "execution_count": 1,
     "metadata": {},
     "output_type": "execute_result"
    }
   ],
   "source": [
    "from functools import reduce\n",
    "\n",
    "input_string = '1 2 3 4  9 5 6 7'\n",
    "\n",
    "def GetMinMaxInt(string: str) -> int:\n",
    "\n",
    "    \"\"\"\n",
    "    Enter your string with space \n",
    "    -> get min and max number\n",
    "    \"\"\"\n",
    "        \n",
    "    lst = input_string.replace(\" \", \"\")\n",
    "    without_space = list(filter(lambda x: x, lst))\n",
    "    max_int = reduce(lambda x, y: x if x > y else y, without_space)\n",
    "    min_int = reduce(lambda x, y: x if x < y else y, without_space)\n",
    "    return (f' Your max number is: {max_int}. ' \n",
    "            f'Your min number is: {min_int}')\n",
    "\n",
    "GetMinMaxInt(input_string)"
   ]
  },
  {
   "cell_type": "markdown",
   "metadata": {},
   "source": [
    "#2"
   ]
  },
  {
   "cell_type": "code",
   "execution_count": 2,
   "metadata": {},
   "outputs": [
    {
     "data": {
      "text/plain": [
       "True"
      ]
     },
     "execution_count": 2,
     "metadata": {},
     "output_type": "execute_result"
    }
   ],
   "source": [
    "def check_pin(pin_code: str) -> bool:\n",
    "\n",
    "    \"\"\"\n",
    "    Enter your pin code and convert into list \n",
    "    -> get check when you enter pin code\n",
    "    \"\"\"\n",
    "    \n",
    "    check = list(filter(lambda x: x + x, pin_code))\n",
    "    if len(check) == 4 or len(check) == 6:\n",
    "        return True\n",
    "    else:\n",
    "        return False\n",
    "\n",
    "check_pin('6457')"
   ]
  },
  {
   "cell_type": "markdown",
   "metadata": {},
   "source": [
    "#3"
   ]
  },
  {
   "cell_type": "code",
   "execution_count": 3,
   "metadata": {},
   "outputs": [
    {
     "data": {
      "text/plain": [
       "[2, 4, 7, 5, 11]"
      ]
     },
     "execution_count": 3,
     "metadata": {},
     "output_type": "execute_result"
    }
   ],
   "source": [
    "from math import sqrt\n",
    "\n",
    "def get_int(*args: int) -> list:\n",
    "\n",
    "    \"\"\"\n",
    "    In this case we use args veriable because we can input a few arguments in the fanction \n",
    "    -> get sqrt number if it's without a trace\n",
    "    \"\"\"\n",
    "    \n",
    "    integer = list(map(lambda x: int(sqrt(x)) if sqrt(x) % 1 == 0 else 0, args))\n",
    "    lst = list(filter(lambda x: x > 0, integer))\n",
    "    return lst\n",
    "\n",
    "get_int(4, 8, 16, 49, 25, 121)"
   ]
  },
  {
   "cell_type": "markdown",
   "metadata": {},
   "source": [
    "#4"
   ]
  },
  {
   "cell_type": "code",
   "execution_count": 4,
   "metadata": {},
   "outputs": [
    {
     "data": {
      "text/plain": [
       "[9, 4, 8, 16, 49, 8, 25, 121, 5]"
      ]
     },
     "execution_count": 4,
     "metadata": {},
     "output_type": "execute_result"
    }
   ],
   "source": [
    "def unique_in_order(*args):\n",
    "\n",
    "    \"\"\"\n",
    "    In this case we use args veriable because we can input a few arguments in the fanction\n",
    "    -> get list without repeating number next to the previous number\n",
    "    \"\"\"\n",
    "    \n",
    "    lst = []           \n",
    "                          \n",
    "    for i, v in enumerate(args):     \n",
    "        if i == 0 or v != args[i - 1]: \n",
    "            lst.append(v)                   \n",
    "    return lst                              \n",
    "\n",
    "\n",
    "unique_in_order(9, 4, 8, 8, 16, 49, 8, 25, 121, 121, 5)"
   ]
  },
  {
   "cell_type": "markdown",
   "metadata": {},
   "source": [
    "#5"
   ]
  },
  {
   "cell_type": "code",
   "execution_count": 5,
   "metadata": {},
   "outputs": [
    {
     "data": {
      "text/plain": [
       "2"
      ]
     },
     "execution_count": 5,
     "metadata": {},
     "output_type": "execute_result"
    }
   ],
   "source": [
    "def MinLenWord(string: str) -> int:\n",
    "\n",
    "    \"\"\"\n",
    "    Input your string\n",
    "    -> get number short word\n",
    "    \"\"\"\n",
    "        \n",
    "    str_split = string.split(\" \")\n",
    "    str_split = list(filter(lambda x: len(x), str_split)) \n",
    "    len_word = list(map(len, str_split))\n",
    "    return min(len_word)\n",
    "    \n",
    "string = 'Data analysts are IT professionals who help company leaders in many industries manage large amounts of data and make decisions based on information'\n",
    "\n",
    "MinLenWord(string)"
   ]
  },
  {
   "cell_type": "markdown",
   "metadata": {},
   "source": [
    "#6"
   ]
  },
  {
   "cell_type": "code",
   "execution_count": 6,
   "metadata": {},
   "outputs": [
    {
     "data": {
      "text/plain": [
       "3"
      ]
     },
     "execution_count": 6,
     "metadata": {},
     "output_type": "execute_result"
    }
   ],
   "source": [
    "def DigitalRoot(number: int) -> int:\n",
    "\n",
    "    \"\"\"\n",
    "    Input your value\n",
    "    -> get DigitalRoot\n",
    "    \"\"\"\n",
    "       \n",
    "    if number < 10:\n",
    "        return number\n",
    "    else:\n",
    "        return DigitalRoot(sum(map(int, list(str(number)))))\n",
    "        \n",
    "DigitalRoot(255)"
   ]
  },
  {
   "cell_type": "markdown",
   "metadata": {},
   "source": [
    "#7"
   ]
  },
  {
   "cell_type": "code",
   "execution_count": 7,
   "metadata": {},
   "outputs": [
    {
     "data": {
      "text/plain": [
       "'e'"
      ]
     },
     "execution_count": 7,
     "metadata": {},
     "output_type": "execute_result"
    }
   ],
   "source": [
    "def GetLetter(string: str) -> str:\n",
    "\n",
    "    \"\"\"\n",
    "    Input your word\n",
    "    -> get middle character(s)\n",
    "    \"\"\"\n",
    "       \n",
    "    for i in string:\n",
    "        i = int(len(string) / 2)\n",
    "        if len(string) % 2 == 0:\n",
    "            return string[i - 1] + string[i]\n",
    "        else: \n",
    "            i = int(len(string) / 2)\n",
    "            return string[i]\n",
    "        \n",
    "GetLetter('unnecessary')"
   ]
  },
  {
   "cell_type": "markdown",
   "metadata": {},
   "source": [
    "#8"
   ]
  },
  {
   "cell_type": "code",
   "execution_count": 8,
   "metadata": {},
   "outputs": [
    {
     "data": {
      "text/plain": [
       "True"
      ]
     },
     "execution_count": 8,
     "metadata": {},
     "output_type": "execute_result"
    }
   ],
   "source": [
    "def prime(number: int) -> bool:\n",
    "    \n",
    "    \"\"\"\n",
    "    Prime or complex number\n",
    "    \"\"\"\n",
    "\n",
    "    counter = 0\n",
    "\n",
    "    for i in range(1, number + 1):\n",
    "        if number % i == 0:\n",
    "            counter += 1\n",
    "    return True if counter == 2 else False\n",
    "\n",
    "prime(2)"
   ]
  },
  {
   "cell_type": "code",
   "execution_count": null,
   "metadata": {},
   "outputs": [],
   "source": []
  },
  {
   "cell_type": "markdown",
   "metadata": {},
   "source": [
    "#9"
   ]
  },
  {
   "cell_type": "code",
   "execution_count": 9,
   "metadata": {},
   "outputs": [
    {
     "data": {
      "text/plain": [
       "'Array sum - 22, even number'"
      ]
     },
     "execution_count": 9,
     "metadata": {},
     "output_type": "execute_result"
    }
   ],
   "source": [
    "from functools import reduce\n",
    "\n",
    "def GetSumInteger(lst: list) -> str:\n",
    "    \n",
    "    \"\"\"\n",
    "    Even or odd number\n",
    "    \"\"\"\n",
    "\n",
    "    integer = reduce(lambda x, y: x + y, lst, 0)\n",
    "    if integer % 2 == 0:\n",
    "        return f'Array sum - {integer}, even number' \n",
    "    else: \n",
    "        return f'Array sum - {integer}, odd number'\n",
    "\n",
    "\n",
    "GetSumInteger([3, 5, 6, 7, 1])"
   ]
  },
  {
   "cell_type": "markdown",
   "metadata": {},
   "source": [
    "#10"
   ]
  },
  {
   "cell_type": "code",
   "execution_count": 181,
   "metadata": {},
   "outputs": [
    {
     "data": {
      "text/plain": [
       "([[10, 11, 12, 13, 14, 15, 16, 17, 18],\n",
       "  [27, 26, 25, 24, 23, 22, 21, 20, 19],\n",
       "  [28, 29, 30, 31, 32, 33, 34, 35, 36],\n",
       "  [45, 44, 43, 42, 41, 40, 39, 38, 37],\n",
       "  [46, 47, 48, 49, 50, 51, 52, 53, 54],\n",
       "  [63, 62, 61, 60, 59, 58, 57, 56, 55],\n",
       "  [64, 65, 66, 67, 68, 69, 70, 71, 72],\n",
       "  [81, 80, 79, 78, 77, 76, 75, 74, 73],\n",
       "  [82, 83, 84, 85, 86, 87, 88, 89, 90]],\n",
       " 'Numbers in hourglass - [10, 11, 12, 13, 14, 15, 16, 17, 18, 26, 25, 24, 23, 22, 21, 20, 30, 31, 32, 33, 34, 42, 41, 40, 50, 60, 59, 58, 66, 67, 68, 69, 70, 80, 79, 78, 77, 76, 75, 74, 82, 83, 84, 85, 86, 87, 88, 89, 90], Sum - 2450')"
      ]
     },
     "execution_count": 181,
     "metadata": {},
     "output_type": "execute_result"
    }
   ],
   "source": [
    "def get_matrix(size: int) -> list:\n",
    "     \n",
    "    \"\"\"\n",
    "    Get matrix and count the values ​​of numbers in kind of hourglass in matrix (without filter function)\n",
    "    \"\"\"\n",
    "\n",
    "      \n",
    "    matrix = []\n",
    "    counter = 10\n",
    "\n",
    "    for i in range(size):\n",
    "        inner_matrix = []\n",
    "\n",
    "        for j in range(size):\n",
    "            inner_matrix.append(counter)\n",
    "            counter += 1\n",
    "        if i % 2 == 1:\n",
    "            inner_matrix.reverse()\n",
    "        matrix.append(inner_matrix)\n",
    "    \n",
    "    for k in range(size):\n",
    "        summ = []\n",
    "        for i in range(size):\n",
    "            for j in range(size):\n",
    "                if i + j == k or i == j:\n",
    "                    summ += [matrix[i][j]]\n",
    "                elif (i < j and i + j < k) or (j < i and i + j > k):\n",
    "                    summ += [matrix[i][j]]\n",
    "                else:\n",
    "                    summ += []\n",
    "    \n",
    "    total = reduce(lambda x, y: x + y , summ, 0)\n",
    "                    \n",
    "    return matrix, f'Numbers in hourglass - {summ}, Sum - {total}'\n",
    "\n",
    "get_matrix(9)"
   ]
  },
  {
   "cell_type": "code",
   "execution_count": null,
   "metadata": {},
   "outputs": [],
   "source": []
  }
 ],
 "metadata": {
  "kernelspec": {
   "display_name": "base",
   "language": "python",
   "name": "python3"
  },
  "language_info": {
   "codemirror_mode": {
    "name": "ipython",
    "version": 3
   },
   "file_extension": ".py",
   "mimetype": "text/x-python",
   "name": "python",
   "nbconvert_exporter": "python",
   "pygments_lexer": "ipython3",
   "version": "3.11.3"
  }
 },
 "nbformat": 4,
 "nbformat_minor": 2
}
