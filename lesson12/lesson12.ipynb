{
 "cells": [
  {
   "cell_type": "code",
   "execution_count": 3,
   "metadata": {},
   "outputs": [],
   "source": [
    "import numpy as np\n",
    "from scipy import stats\n",
    "import matplotlib.pyplot as plt\n",
    "from scipy.special import perm, comb, factorial\n",
    "import math"
   ]
  },
  {
   "cell_type": "markdown",
   "metadata": {},
   "source": [
    "Комбинаторика"
   ]
  },
  {
   "cell_type": "markdown",
   "metadata": {},
   "source": [
    "1. В группе 30 студентов. Необходимо выбрать старосту, заместителя старосты и\n",
    "профорга. Сколько существует способов это сделать?"
   ]
  },
  {
   "cell_type": "code",
   "execution_count": 4,
   "metadata": {},
   "outputs": [
    {
     "data": {
      "text/plain": [
       "24360.0"
      ]
     },
     "execution_count": 4,
     "metadata": {},
     "output_type": "execute_result"
    }
   ],
   "source": [
    "# количество размещений из n элементов по k\n",
    "k = np.array(3)\n",
    "n = np.array(30)\n",
    "perm(n, k)"
   ]
  },
  {
   "cell_type": "markdown",
   "metadata": {},
   "source": [
    "2. Два почтальона должны разнести 10 писем по 10 адресам. Сколькими\n",
    "способами они могут распределить работу?"
   ]
  },
  {
   "cell_type": "code",
   "execution_count": 5,
   "metadata": {},
   "outputs": [
    {
     "data": {
      "text/plain": [
       "1024"
      ]
     },
     "execution_count": 5,
     "metadata": {},
     "output_type": "execute_result"
    }
   ],
   "source": [
    "# количество размещений из n элементов по k с повторением\n",
    "k = np.array(2)\n",
    "m = np.array(10)\n",
    "k**m # каждое письмо может быть доставленно 2 способами "
   ]
  },
  {
   "cell_type": "markdown",
   "metadata": {},
   "source": [
    "3. В ящике 100 деталей, из них 30 – деталей 1-го сорта, 50 – 2-го, остальные – 3-го. \n",
    "Сколько существует способов извлечения из ящика одной детали 1-го или 2-го сорта?"
   ]
  },
  {
   "cell_type": "code",
   "execution_count": 6,
   "metadata": {},
   "outputs": [
    {
     "data": {
      "text/plain": [
       "80"
      ]
     },
     "execution_count": 6,
     "metadata": {},
     "output_type": "execute_result"
    }
   ],
   "source": [
    "n_1 = np.array(30)\n",
    "n_2 = np.array(50)\n",
    "n_1 + n_2 # по правилу суммы (у нас уже известно количество возможных способов выборок)"
   ]
  },
  {
   "cell_type": "markdown",
   "metadata": {},
   "source": [
    "5. Порядок выступления 7 участников конкурса определяется жребием. Сколько\n",
    "различных вариантов жеребьевки при этом возможно?"
   ]
  },
  {
   "cell_type": "code",
   "execution_count": 18,
   "metadata": {},
   "outputs": [
    {
     "data": {
      "text/plain": [
       "5040"
      ]
     },
     "execution_count": 18,
     "metadata": {},
     "output_type": "execute_result"
    }
   ],
   "source": [
    "# количества перестановок\n",
    "n = np.array(7)\n",
    "math.factorial(n) "
   ]
  },
  {
   "cell_type": "markdown",
   "metadata": {},
   "source": [
    "6. В конкурсе по 5 номинациям участвуют 10 кинофильмов. Сколько существует вариантов \n",
    "распределения призов, если по всем номинациям установлены различные премии?"
   ]
  },
  {
   "cell_type": "code",
   "execution_count": 20,
   "metadata": {},
   "outputs": [
    {
     "data": {
      "text/plain": [
       "100000"
      ]
     },
     "execution_count": 20,
     "metadata": {},
     "output_type": "execute_result"
    }
   ],
   "source": [
    "# количество размещений с повторениями\n",
    "n = np.array(10)\n",
    "k = np.array(5)\n",
    "n**k # у каждого фильма есть возможность получить номинацию/ии (повторы возможны)"
   ]
  },
  {
   "cell_type": "markdown",
   "metadata": {},
   "source": [
    "7. В шахматном турнире участвуют 16 человек. Сколько партий должно быть сыграно \n",
    "в турнире, если между любыми двумя участниками должна быть сыграна одна партия?"
   ]
  },
  {
   "cell_type": "code",
   "execution_count": 24,
   "metadata": {},
   "outputs": [
    {
     "data": {
      "text/plain": [
       "120"
      ]
     },
     "execution_count": 24,
     "metadata": {},
     "output_type": "execute_result"
    }
   ],
   "source": [
    "# количество сочетаний из n элементов по k без повторов\n",
    "n = np.array(16)\n",
    "k = np.array(2)\n",
    "comb(n, k, exact=True, repetition=False)"
   ]
  },
  {
   "cell_type": "markdown",
   "metadata": {},
   "source": [
    "8. В условиях задачи 5 определить, сколько существует вариантов распределения\n",
    "призов, если по всем номинациям установлены одинаковые призы?"
   ]
  },
  {
   "cell_type": "code",
   "execution_count": 30,
   "metadata": {},
   "outputs": [
    {
     "data": {
      "text/plain": [
       "2002"
      ]
     },
     "execution_count": 30,
     "metadata": {},
     "output_type": "execute_result"
    }
   ],
   "source": [
    "# количество сочетаний из n элементов по k с повторами\n",
    "n = np.array(10)\n",
    "k = np.array(5)\n",
    "comb(n, k, exact=True, repetition=True) #различные комбинации из  объектов, которые выбраны из множества  различных объектов, \n",
    "                                                            #и которые отличаются друг от друга хотя бы одним объектом"
   ]
  },
  {
   "cell_type": "markdown",
   "metadata": {},
   "source": [
    "9. Садовник должен в течении трех дней посадить 6 деревьев. Сколькими способами \n",
    "он может распределить по дням работу, если будет сажать не менее одного\n",
    "дерева в день?"
   ]
  },
  {
   "cell_type": "code",
   "execution_count": 34,
   "metadata": {},
   "outputs": [
    {
     "data": {
      "text/plain": [
       "10"
      ]
     },
     "execution_count": 34,
     "metadata": {},
     "output_type": "execute_result"
    }
   ],
   "source": [
    "n = np.array(6 - 1) # без повторений\n",
    "k = np.array(3)\n",
    "comb(n, k, exact=True, repetition=False) # math.factorial(n) / (math.factorial(n - k) * math.factorial(k))"
   ]
  },
  {
   "cell_type": "markdown",
   "metadata": {},
   "source": [
    "10. Сколько существует четырехзначных чисел (возможно, начинающихся с нуля),\n",
    "сумма цифр которых равна 5?"
   ]
  },
  {
   "cell_type": "code",
   "execution_count": 35,
   "metadata": {},
   "outputs": [
    {
     "data": {
      "text/plain": [
       "56"
      ]
     },
     "execution_count": 35,
     "metadata": {},
     "output_type": "execute_result"
    }
   ],
   "source": [
    "n = np.array(6)# с повторениями\n",
    "k = np.array(3)\n",
    "comb(n, k, exact=True, repetition=True)"
   ]
  },
  {
   "cell_type": "markdown",
   "metadata": {},
   "source": [
    "11. Сколькими способами можно разбить группу из 25 студентов на три подгруппы\n",
    "А, В и С по 6, 9 и 10 человек соответственно?"
   ]
  },
  {
   "cell_type": "code",
   "execution_count": 13,
   "metadata": {},
   "outputs": [
    {
     "data": {
      "text/plain": [
       "16360143800.0"
      ]
     },
     "execution_count": 13,
     "metadata": {},
     "output_type": "execute_result"
    }
   ],
   "source": [
    "n = 25\n",
    "n_1 = 6\n",
    "n_2 = 9\n",
    "n_3 = 10\n",
    "k = 3\n",
    "math.factorial(n) / (math.factorial(n_1) * math.factorial(n_2) * math.factorial(n_3))"
   ]
  },
  {
   "cell_type": "markdown",
   "metadata": {},
   "source": [
    "11. Сколько существует семизначных чисел, состоящих из цифр 4, 5 и 6, в которых\n",
    "цифра 4 повторяется 3 раза, а цифры 5 и 6 – по 2 раза?"
   ]
  },
  {
   "cell_type": "code",
   "execution_count": 14,
   "metadata": {},
   "outputs": [
    {
     "data": {
      "text/plain": [
       "210.0"
      ]
     },
     "execution_count": 14,
     "metadata": {},
     "output_type": "execute_result"
    }
   ],
   "source": [
    "n_1 = 3\n",
    "n_2 = 2\n",
    "n_3 = 2\n",
    "n = 7\n",
    "math.factorial(n) / (math.factorial(n_1) * math.factorial(n_2) * math.factorial(n_3))"
   ]
  },
  {
   "cell_type": "markdown",
   "metadata": {},
   "source": [
    "Классическая вероятностная модель. Геометрическая вероятность"
   ]
  },
  {
   "cell_type": "markdown",
   "metadata": {},
   "source": [
    "1. В ящике 5 апельсинов и 4 яблока. Наудачу выбираются 3 фрукта. Какова\n",
    "вероятность, что все три фрукта – апельсины?"
   ]
  },
  {
   "cell_type": "code",
   "execution_count": 39,
   "metadata": {},
   "outputs": [
    {
     "data": {
      "text/plain": [
       "0.11904761904761904"
      ]
     },
     "execution_count": 39,
     "metadata": {},
     "output_type": "execute_result"
    }
   ],
   "source": [
    "k = 3\n",
    "n = 5\n",
    "k_full = 3\n",
    "n_full = 9\n",
    "comb(n, k, exact=True, repetition=False) / comb(n_full, k_full, exact=True, repetition=False) # (n!/(k_full!*(n-3)!)) / (n!/(k_full!*(n_full-3)!))"
   ]
  },
  {
   "cell_type": "markdown",
   "metadata": {},
   "source": [
    "2. Преподаватель предлагает каждому из трех студентов задумать любое число от\n",
    "1 до 10. Считая, что выбор каждым из студентов любого числа из заданных\n",
    "равновозможен, найти вероятность того, что у кого-то из них задуманные числа совпадут."
   ]
  },
  {
   "cell_type": "code",
   "execution_count": 41,
   "metadata": {},
   "outputs": [
    {
     "data": {
      "text/plain": [
       "0.28"
      ]
     },
     "execution_count": 41,
     "metadata": {},
     "output_type": "execute_result"
    }
   ],
   "source": [
    "n_total = 10 ** 3 # общее количество исходов\n",
    "m = 10 * 9 * 8 # предположим что они загадали и не угадали у друг друга числа\n",
    "p = (n_total - m) / n_total\n",
    "p"
   ]
  },
  {
   "cell_type": "markdown",
   "metadata": {},
   "source": [
    "3. Найти вероятность того, что в 8-значном числе ровно 4 цифры совпадают, а\n",
    "остальные различны."
   ]
  },
  {
   "cell_type": "code",
   "execution_count": 54,
   "metadata": {},
   "outputs": [
    {
     "data": {
      "text/plain": [
       "0.021168"
      ]
     },
     "execution_count": 54,
     "metadata": {},
     "output_type": "execute_result"
    }
   ],
   "source": [
    "10 * comb(8, 4, repetition=False) * perm(9, 4) / 10 ** 8 # ?????"
   ]
  },
  {
   "cell_type": "markdown",
   "metadata": {},
   "source": [
    "4. Шесть клиентов случайным образом обращаются в 5 фирм. Найти вероятность того, что хотя бы в одну фирму никто не обратится."
   ]
  },
  {
   "cell_type": "code",
   "execution_count": 48,
   "metadata": {},
   "outputs": [
    {
     "data": {
      "text/plain": [
       "0.1152"
      ]
     },
     "execution_count": 48,
     "metadata": {},
     "output_type": "execute_result"
    }
   ],
   "source": [
    "n = 5 * factorial(6) / (1 * 1 * 1 * 1 * 2) # в фирмы обратились все клиенты, в одну дважды\n",
    "k = 5 ** 6 # общее количество способов распределения клиентов по фирмам\n",
    "p = n / k\n",
    "p"
   ]
  },
  {
   "cell_type": "markdown",
   "metadata": {},
   "source": [
    "Основные формулы теории вероятностей"
   ]
  },
  {
   "cell_type": "markdown",
   "metadata": {},
   "source": [
    "1. В ящике 10 красных и 5 синих пуговиц. Вынимаются наудачу две пуговицы.\n",
    "Какова вероятность, что пуговицы будут одноцветными?"
   ]
  },
  {
   "cell_type": "code",
   "execution_count": 53,
   "metadata": {},
   "outputs": [
    {
     "data": {
      "text/plain": [
       "0.5238095238095238"
      ]
     },
     "execution_count": 53,
     "metadata": {},
     "output_type": "execute_result"
    }
   ],
   "source": [
    "n = 15\n",
    "k = 2\n",
    "red = comb(10, k, repetition=False)\n",
    "blue = comb(5, k, repetition=False)\n",
    "from_all = comb(15, k, repetition=False)\n",
    "p = (red + blue) / from_all\n",
    "p"
   ]
  },
  {
   "cell_type": "markdown",
   "metadata": {},
   "source": [
    "2. Среди сотрудников фирмы 28% знают английский язык, 30% – немецкий, 42% – французский; английский и немецкий – 8%, \n",
    "английский и французский – 10%, немецкий и французский – 5%, все три языка – 3%. \n",
    "Найти вероятность того, что случайно выбранный сотрудник фирмы: \n",
    "а) знает английский или немецкий; \n",
    "б) знает английский, немецкий или французский; \n",
    "в) не знает ни один из перечисленных языков."
   ]
  },
  {
   "cell_type": "code",
   "execution_count": 55,
   "metadata": {},
   "outputs": [
    {
     "data": {
      "text/plain": [
       "0.5"
      ]
     },
     "execution_count": 55,
     "metadata": {},
     "output_type": "execute_result"
    }
   ],
   "source": [
    "# а) знает английский или немецкий\n",
    "(28 + 30 - 8) / 100 # убираем 8 поскольку они уже были вклбчены ранее в выборку"
   ]
  },
  {
   "cell_type": "code",
   "execution_count": 59,
   "metadata": {},
   "outputs": [
    {
     "data": {
      "text/plain": [
       "0.8"
      ]
     },
     "execution_count": 59,
     "metadata": {},
     "output_type": "execute_result"
    }
   ],
   "source": [
    "# б) знает английский, немецкий или французский\n",
    "a = (8 + 10 + 5 - 3) # знают несколько языков без учета всех трех, поскольку они уже были вклбчены ранее в выборку\n",
    "b = (28 + 30 + 42) # всего\n",
    "p = (b - a) / 100\n",
    "p"
   ]
  },
  {
   "cell_type": "code",
   "execution_count": 61,
   "metadata": {},
   "outputs": [
    {
     "data": {
      "text/plain": [
       "0.2"
      ]
     },
     "execution_count": 61,
     "metadata": {},
     "output_type": "execute_result"
    }
   ],
   "source": [
    "# в) не знает ни один из перечисленных языков\n",
    "round(1 - p, 1)"
   ]
  }
 ],
 "metadata": {
  "kernelspec": {
   "display_name": "base",
   "language": "python",
   "name": "python3"
  },
  "language_info": {
   "codemirror_mode": {
    "name": "ipython",
    "version": 3
   },
   "file_extension": ".py",
   "mimetype": "text/x-python",
   "name": "python",
   "nbconvert_exporter": "python",
   "pygments_lexer": "ipython3",
   "version": "3.11.3"
  }
 },
 "nbformat": 4,
 "nbformat_minor": 2
}
