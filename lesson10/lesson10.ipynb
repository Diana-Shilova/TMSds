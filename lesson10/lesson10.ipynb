{
 "cells": [
  {
   "cell_type": "code",
   "execution_count": 34,
   "metadata": {},
   "outputs": [],
   "source": [
    "import sqlalchemy as db\n",
    "from sqlalchemy.orm import Session, sessionmaker\n",
    "from sqlalchemy.ext.declarative import declarative_base\n",
    "from sqlalchemy import literal_column\n",
    "\n",
    "import warnings\n",
    "warnings.filterwarnings('ignore')"
   ]
  },
  {
   "cell_type": "code",
   "execution_count": 2,
   "metadata": {},
   "outputs": [
    {
     "data": {
      "text/plain": [
       "'2.0.27'"
      ]
     },
     "execution_count": 2,
     "metadata": {},
     "output_type": "execute_result"
    }
   ],
   "source": [
    "db.__version__"
   ]
  },
  {
   "cell_type": "code",
   "execution_count": 3,
   "metadata": {},
   "outputs": [],
   "source": [
    "engine = db.create_engine('sqlite:///test_db.db')"
   ]
  },
  {
   "cell_type": "code",
   "execution_count": 4,
   "metadata": {},
   "outputs": [],
   "source": [
    "conn = engine.connect()"
   ]
  },
  {
   "cell_type": "code",
   "execution_count": 5,
   "metadata": {},
   "outputs": [],
   "source": [
    "metadata = db.MetaData()"
   ]
  },
  {
   "cell_type": "code",
   "execution_count": 6,
   "metadata": {},
   "outputs": [],
   "source": [
    "deposits = db.Table(\n",
    "    'Deposit', metadata,\n",
    "    db.Column('id_crt', db.Integer, primary_key = True),\n",
    "    db.Column('id_clnt', db.Integer),\n",
    "    db.Column('id_currency', db.Integer),\n",
    "    db.Column('cur_perc', db.Integer),\n",
    "    db.Column('rest_od', db.Integer),\n",
    "    db.Column('rest_od_eq', db.Integer),    \n",
    "    db.Column('id_prod', db.Integer),\n",
    "    db.Column('id_cbu', db.Integer),\n",
    "    )\n",
    "\n",
    "currency = db.Table(\n",
    "    'Currency', metadata,\n",
    "    db.Column('id_currency', db.Integer, primary_key = True),\n",
    "    db.Column('number_curr', db.Integer),\n",
    "    )\n",
    "\n",
    "clients = db.Table(\n",
    "    'Client', metadata,\n",
    "    db.Column('id_clnt', db.Integer, primary_key = True),\n",
    "    db.Column('clnt_internal_num', db.Integer),\n",
    "    db.Column('name', db.Text),\n",
    "    db.Column('adress', db.Text),\n",
    "    db.Column('reg_number', db.Integer),\n",
    "    )\n",
    "\n",
    "loans = db.Table(\n",
    "    'Loan', metadata,\n",
    "    db.Column('id_crt', db.Integer, primary_key = True),\n",
    "    db.Column('id_clnt', db.Integer),\n",
    "    db.Column('id_currency', db.Integer),\n",
    "    db.Column('cur_percent', db.Integer),\n",
    "    db.Column('rest_od', db.Integer),\n",
    "    db.Column('rest_od_eq', db.Integer), \n",
    "    db.Column('id_prod', db.Integer),\n",
    "    db.Column('id_cbu', db.Integer)\n",
    "    )"
   ]
  },
  {
   "cell_type": "code",
   "execution_count": 7,
   "metadata": {},
   "outputs": [],
   "source": [
    "metadata.create_all(engine)"
   ]
  },
  {
   "cell_type": "markdown",
   "metadata": {},
   "source": [
    "currency code 4 - 933\n",
    "currency code 3 - 840 - 3.2179\n",
    "currency code 2 - 978 - 3.492 \n",
    "currency code 1 - 643 - 0,035417"
   ]
  },
  {
   "cell_type": "code",
   "execution_count": 8,
   "metadata": {},
   "outputs": [],
   "source": [
    "insertion_1 = deposits.insert().values([\n",
    "    {'id_clnt': 2, 'id_currency': 4, 'cur_perc': 2, 'rest_od': 1200, 'rest_od_eq': 1200, 'id_prod': 1, 'id_cbu': 3},\n",
    "    {'id_clnt': 3, 'id_currency': 2, 'cur_perc': 1, 'rest_od': 100, 'rest_od_eq': 349.2, 'id_prod': 2, 'id_cbu': 2},\n",
    "    {'id_clnt': 1, 'id_currency': 4, 'cur_perc': 7, 'rest_od': 240, 'rest_od_eq': 240, 'id_prod': 3, 'id_cbu': 1},\n",
    "    {'id_clnt': 4, 'id_currency': 3, 'cur_perc': 15, 'rest_od': 1000, 'rest_od_eq': 3492, 'id_prod': 4, 'id_cbu': 3}\n",
    "])"
   ]
  },
  {
   "cell_type": "code",
   "execution_count": 9,
   "metadata": {},
   "outputs": [
    {
     "data": {
      "text/plain": [
       "<sqlalchemy.engine.cursor.CursorResult at 0x10d9c2620>"
      ]
     },
     "execution_count": 9,
     "metadata": {},
     "output_type": "execute_result"
    }
   ],
   "source": [
    "conn.execute(insertion_1)"
   ]
  },
  {
   "cell_type": "code",
   "execution_count": 10,
   "metadata": {},
   "outputs": [],
   "source": [
    "insertion_2 = currency.insert().values([\n",
    "    {'number_curr': 643},\n",
    "    {'number_curr': 978},\n",
    "    {'number_curr': 840},\n",
    "    {'number_curr': 933}\n",
    "])"
   ]
  },
  {
   "cell_type": "code",
   "execution_count": 11,
   "metadata": {},
   "outputs": [
    {
     "data": {
      "text/plain": [
       "<sqlalchemy.engine.cursor.CursorResult at 0x10d9c0040>"
      ]
     },
     "execution_count": 11,
     "metadata": {},
     "output_type": "execute_result"
    }
   ],
   "source": [
    "conn.execute(insertion_2)"
   ]
  },
  {
   "cell_type": "code",
   "execution_count": 12,
   "metadata": {},
   "outputs": [],
   "source": [
    "insertion_3 = clients.insert().values([\n",
    "    {'clnt_internal_num': 15432, 'name': 'ООО Ромашка', 'adress': 'г. Минск, ул. Кислева 31', 'reg_number': 75632},\n",
    "    {'clnt_internal_num': 2746, 'name': 'ОАО Пекин', 'adress': 'г. Минск, ул. Калинина 53', 'reg_number': 5474},\n",
    "    {'clnt_internal_num': 743, 'name': 'ЗАО Плюшевый медведь', 'adress': 'г. Минск, ул. Хабаровская 91', 'reg_number': 59483},\n",
    "    {'clnt_internal_num': 40684, 'name': 'ОАО Тюльпан', 'adress': 'г. Минск, ул. Щукина 78', 'reg_number': 12749},\n",
    "])"
   ]
  },
  {
   "cell_type": "code",
   "execution_count": 13,
   "metadata": {},
   "outputs": [
    {
     "data": {
      "text/plain": [
       "<sqlalchemy.engine.cursor.CursorResult at 0x10d9c2860>"
      ]
     },
     "execution_count": 13,
     "metadata": {},
     "output_type": "execute_result"
    }
   ],
   "source": [
    "conn.execute(insertion_3)"
   ]
  },
  {
   "cell_type": "code",
   "execution_count": 14,
   "metadata": {},
   "outputs": [],
   "source": [
    "insertion_4 = loans.insert().values([\n",
    "    {'id_clnt': 3, 'id_currency': 4, 'cur_percent': 6, 'rest_od': 1000, 'rest_od_eq': 1000, 'id_prod': 1, 'id_cbu': 3},\n",
    "    {'id_clnt': 2, 'id_currency': 3, 'cur_percent': 10, 'rest_od': 1000, 'rest_od_eq': 3217.9, 'id_prod': 2, 'id_cbu': 3},\n",
    "    {'id_clnt': 4, 'id_currency': 2, 'cur_percent': 5, 'rest_od': 1000, 'rest_od_eq': 3492, 'id_prod': 3, 'id_cbu': 1},\n",
    "    {'id_clnt': 4, 'id_currency': 4, 'cur_percent': 15, 'rest_od': 12000, 'rest_od_eq': 12000, 'id_prod': 1, 'id_cbu': 2},\n",
    "    {'id_clnt': 1, 'id_currency': 4, 'cur_percent': 15, 'rest_od': 1000, 'rest_od_eq': 1000, 'id_prod': 2, 'id_cbu': 1},\n",
    "    {'id_clnt': 3, 'id_currency': 4, 'cur_percent': 15, 'rest_od': 1000, 'rest_od_eq': 1000, 'id_prod': 2, 'id_cbu': 2},\n",
    "    {'id_clnt': 2, 'id_currency': 4, 'cur_percent': 15, 'rest_od': 1000, 'rest_od_eq': 1000, 'id_prod': 1, 'id_cbu': 3},   \n",
    "    {'id_clnt': 5, 'id_currency': 4, 'cur_percent': 15, 'rest_od': 1000, 'rest_od_eq': 1000, 'id_prod': 1, 'id_cbu': 3},           \n",
    "])"
   ]
  },
  {
   "cell_type": "code",
   "execution_count": 15,
   "metadata": {},
   "outputs": [
    {
     "data": {
      "text/plain": [
       "<sqlalchemy.engine.cursor.CursorResult at 0x10d9c2a40>"
      ]
     },
     "execution_count": 15,
     "metadata": {},
     "output_type": "execute_result"
    }
   ],
   "source": [
    "conn.execute(insertion_4)"
   ]
  },
  {
   "cell_type": "code",
   "execution_count": 16,
   "metadata": {},
   "outputs": [
    {
     "data": {
      "text/plain": [
       "<sqlalchemy.engine.cursor.CursorResult at 0x10d9c2fe0>"
      ]
     },
     "execution_count": 16,
     "metadata": {},
     "output_type": "execute_result"
    }
   ],
   "source": [
    "select_all_query = db.select(loans)\n",
    "select_result = conn.execute(select_all_query)\n",
    "select_result"
   ]
  },
  {
   "cell_type": "code",
   "execution_count": 17,
   "metadata": {},
   "outputs": [
    {
     "data": {
      "text/plain": [
       "[(1, 3, 4, 6, 1000, 1000, 1, 3),\n",
       " (2, 2, 3, 10, 1000, 3217.9, 2, 3),\n",
       " (3, 4, 2, 5, 1000, 3492, 3, 1),\n",
       " (4, 4, 4, 15, 12000, 12000, 1, 2),\n",
       " (5, 1, 4, 15, 1000, 1000, 2, 1),\n",
       " (6, 3, 4, 15, 1000, 1000, 2, 2),\n",
       " (7, 2, 4, 15, 1000, 1000, 1, 3),\n",
       " (8, 5, 4, 15, 1000, 1000, 1, 3)]"
      ]
     },
     "execution_count": 17,
     "metadata": {},
     "output_type": "execute_result"
    }
   ],
   "source": [
    "select_result.fetchall()"
   ]
  },
  {
   "cell_type": "code",
   "execution_count": 27,
   "metadata": {},
   "outputs": [
    {
     "name": "stdout",
     "output_type": "stream",
     "text": [
      "(4, 933)\n",
      "(2, 978)\n",
      "(4, 933)\n",
      "(3, 840)\n"
     ]
    }
   ],
   "source": [
    "left_join = db.select(deposits.c.id_currency, currency.c.number_curr).where(deposits.c.id_currency == currency.c.id_currency)\n",
    "result = conn.execute(left_join)\n",
    "\n",
    "for row in result:\n",
    "    print(row)"
   ]
  },
  {
   "cell_type": "code",
   "execution_count": 19,
   "metadata": {},
   "outputs": [
    {
     "name": "stderr",
     "output_type": "stream",
     "text": [
      "/var/folders/wm/yj20p_cn5cd7_yb59k7dzks40000gn/T/ipykernel_3320/1907618450.py:4: MovedIn20Warning: The ``declarative_base()`` function is now available as sqlalchemy.orm.declarative_base(). (deprecated since: 2.0) (Background on SQLAlchemy 2.0 at: https://sqlalche.me/e/b8d9)\n",
      "  Base = declarative_base()\n"
     ]
    }
   ],
   "source": [
    "Session = sessionmaker()\n",
    "session = Session(bind = conn)\n",
    "\n",
    "Base = declarative_base()"
   ]
  },
  {
   "cell_type": "code",
   "execution_count": 20,
   "metadata": {},
   "outputs": [
    {
     "data": {
      "text/plain": [
       "[(1, 3, 4, 6, 1000, 1000, 1, 3, 3, 743, 'ЗАО Плюшевый медведь', 'г. Минск, ул. Хабаровская 91', 59483),\n",
       " (2, 2, 3, 10, 1000, 3217.9, 2, 3, 2, 2746, 'ОАО Пекин', 'г. Минск, ул. Калинина 53', 5474),\n",
       " (3, 4, 2, 5, 1000, 3492, 3, 1, 4, 40684, 'ОАО Тюльпан', 'г. Минск, ул. Щукина 78', 12749),\n",
       " (4, 4, 4, 15, 12000, 12000, 1, 2, 4, 40684, 'ОАО Тюльпан', 'г. Минск, ул. Щукина 78', 12749),\n",
       " (5, 1, 4, 15, 1000, 1000, 2, 1, 1, 15432, 'ООО Ромашка', 'г. Минск, ул. Кислева 31', 75632),\n",
       " (6, 3, 4, 15, 1000, 1000, 2, 2, 3, 743, 'ЗАО Плюшевый медведь', 'г. Минск, ул. Хабаровская 91', 59483),\n",
       " (7, 2, 4, 15, 1000, 1000, 1, 3, 2, 2746, 'ОАО Пекин', 'г. Минск, ул. Калинина 53', 5474)]"
      ]
     },
     "execution_count": 20,
     "metadata": {},
     "output_type": "execute_result"
    }
   ],
   "source": [
    "inner_join = session.query(loans, clients).join(clients, loans.c.id_clnt == clients.c.id_clnt).all()\n",
    "inner_join"
   ]
  },
  {
   "cell_type": "code",
   "execution_count": 21,
   "metadata": {},
   "outputs": [
    {
     "data": {
      "text/plain": [
       "[(2, 1200), (4, 3492)]"
      ]
     },
     "execution_count": 21,
     "metadata": {},
     "output_type": "execute_result"
    }
   ],
   "source": [
    "having_query = session.query(deposits.c.id_clnt, db.func.sum(deposits.c.rest_od_eq).label('total_rest_od_eq')).\\\n",
    "                group_by(deposits.c.id_clnt).\\\n",
    "                having(literal_column('total_rest_od_eq') > 1000).\\\n",
    "                all()\n",
    "\n",
    "having_query"
   ]
  },
  {
   "cell_type": "code",
   "execution_count": 22,
   "metadata": {},
   "outputs": [
    {
     "data": {
      "text/plain": [
       "[(3, 4, 2, 5, 1000, 3492, 3, 1),\n",
       " (4, 4, 4, 15, 12000, 12000, 1, 2),\n",
       " (5, 1, 4, 15, 1000, 1000, 2, 1)]"
      ]
     },
     "execution_count": 22,
     "metadata": {},
     "output_type": "execute_result"
    }
   ],
   "source": [
    "union_1 = db.select(loans).where(loans.c.id_clnt == 1)\n",
    "union_2 = db.select(loans).where(loans.c.id_clnt == 4)\n",
    "\n",
    "q = union_1.union(union_2).alias('union_query')\n",
    "u = session.query(q).all()\n",
    "u"
   ]
  },
  {
   "cell_type": "code",
   "execution_count": 45,
   "metadata": {},
   "outputs": [
    {
     "data": {
      "text/plain": [
       "[(1, 3, 4, 6, 1000, 1000, 1, 3),\n",
       " (4, 4, 4, 15, 12000, 12000, 1, 2),\n",
       " (5, 1, 4, 15, 1000, 1000, 2, 1),\n",
       " (6, 3, 4, 15, 1000, 1000, 2, 2),\n",
       " (7, 2, 4, 15, 1000, 1000, 1, 3),\n",
       " (8, 5, 4, 15, 1000, 1000, 1, 3)]"
      ]
     },
     "execution_count": 45,
     "metadata": {},
     "output_type": "execute_result"
    }
   ],
   "source": [
    "subquery = session.query(currency.c.id_currency).where(currency.c.id_currency == 4).subquery()\n",
    "query = session.query(loans).filter(loans.c.id_currency == subquery).all()\n",
    "query"
   ]
  },
  {
   "cell_type": "code",
   "execution_count": null,
   "metadata": {},
   "outputs": [],
   "source": []
  }
 ],
 "metadata": {
  "kernelspec": {
   "display_name": "base",
   "language": "python",
   "name": "python3"
  },
  "language_info": {
   "codemirror_mode": {
    "name": "ipython",
    "version": 3
   },
   "file_extension": ".py",
   "mimetype": "text/x-python",
   "name": "python",
   "nbconvert_exporter": "python",
   "pygments_lexer": "ipython3",
   "version": "3.10.10"
  }
 },
 "nbformat": 4,
 "nbformat_minor": 2
}
