{
 "cells": [
  {
   "cell_type": "code",
   "execution_count": 161,
   "metadata": {},
   "outputs": [],
   "source": [
    "import sqlalchemy as db"
   ]
  },
  {
   "cell_type": "code",
   "execution_count": 162,
   "metadata": {},
   "outputs": [
    {
     "data": {
      "text/plain": [
       "'2.0.27'"
      ]
     },
     "execution_count": 162,
     "metadata": {},
     "output_type": "execute_result"
    }
   ],
   "source": [
    "db.__version__"
   ]
  },
  {
   "cell_type": "code",
   "execution_count": 163,
   "metadata": {},
   "outputs": [],
   "source": [
    "engine = db.create_engine('sqlite:///test_db.db')"
   ]
  },
  {
   "cell_type": "code",
   "execution_count": 164,
   "metadata": {},
   "outputs": [],
   "source": [
    "conn = engine.connect()"
   ]
  },
  {
   "cell_type": "code",
   "execution_count": 165,
   "metadata": {},
   "outputs": [],
   "source": [
    "metadata = db.MetaData()"
   ]
  },
  {
   "cell_type": "code",
   "execution_count": 166,
   "metadata": {},
   "outputs": [
    {
     "data": {
      "text/plain": [
       "['ARRAY',\n",
       " 'AdaptedConnection',\n",
       " 'Alias',\n",
       " 'AliasedReturnsRows',\n",
       " 'Any',\n",
       " 'AssertionPool',\n",
       " 'AsyncAdaptedQueuePool',\n",
       " 'BIGINT',\n",
       " 'BINARY',\n",
       " 'BLANK_SCHEMA',\n",
       " 'BLOB',\n",
       " 'BOOLEAN',\n",
       " 'BaseDDLElement',\n",
       " 'BaseRow',\n",
       " 'BigInteger',\n",
       " 'BinaryExpression',\n",
       " 'BindParameter',\n",
       " 'BindTyping',\n",
       " 'Boolean',\n",
       " 'BooleanClauseList',\n",
       " 'CHAR',\n",
       " 'CLOB',\n",
       " 'CTE',\n",
       " 'CacheKey',\n",
       " 'Case',\n",
       " 'Cast',\n",
       " 'CheckConstraint',\n",
       " 'ChunkedIteratorResult',\n",
       " 'ClauseElement',\n",
       " 'ClauseList',\n",
       " 'CollectionAggregate',\n",
       " 'Column',\n",
       " 'ColumnClause',\n",
       " 'ColumnCollection',\n",
       " 'ColumnDefault',\n",
       " 'ColumnElement',\n",
       " 'ColumnExpressionArgument',\n",
       " 'ColumnOperators',\n",
       " 'Compiled',\n",
       " 'CompoundSelect',\n",
       " 'Computed',\n",
       " 'Connection',\n",
       " 'Constraint',\n",
       " 'CreateEnginePlugin',\n",
       " 'CursorResult',\n",
       " 'DATE',\n",
       " 'DATETIME',\n",
       " 'DDL',\n",
       " 'DDLElement',\n",
       " 'DECIMAL',\n",
       " 'DOUBLE',\n",
       " 'DOUBLE_PRECISION',\n",
       " 'Date',\n",
       " 'DateTime',\n",
       " 'DefaultClause',\n",
       " 'Delete',\n",
       " 'Dialect',\n",
       " 'Double',\n",
       " 'Engine',\n",
       " 'Enum',\n",
       " 'ExceptionContext',\n",
       " 'Executable',\n",
       " 'ExecutableDDLElement',\n",
       " 'ExecutionContext',\n",
       " 'Exists',\n",
       " 'Extract',\n",
       " 'FLOAT',\n",
       " 'FallbackAsyncAdaptedQueuePool',\n",
       " 'False_',\n",
       " 'FetchedValue',\n",
       " 'Float',\n",
       " 'ForeignKey',\n",
       " 'ForeignKeyConstraint',\n",
       " 'FromClause',\n",
       " 'FromGrouping',\n",
       " 'FrozenResult',\n",
       " 'Function',\n",
       " 'FunctionElement',\n",
       " 'FunctionFilter',\n",
       " 'GenerativeSelect',\n",
       " 'Grouping',\n",
       " 'HasCTE',\n",
       " 'HasPrefixes',\n",
       " 'HasSuffixes',\n",
       " 'INT',\n",
       " 'INTEGER',\n",
       " 'Identity',\n",
       " 'Index',\n",
       " 'Insert',\n",
       " 'Inspector',\n",
       " 'Integer',\n",
       " 'Interval',\n",
       " 'IteratorResult',\n",
       " 'JSON',\n",
       " 'Join',\n",
       " 'LABEL_STYLE_DEFAULT',\n",
       " 'LABEL_STYLE_DISAMBIGUATE_ONLY',\n",
       " 'LABEL_STYLE_NONE',\n",
       " 'LABEL_STYLE_TABLENAME_PLUS_COL',\n",
       " 'Label',\n",
       " 'LambdaElement',\n",
       " 'LargeBinary',\n",
       " 'Lateral',\n",
       " 'MappingResult',\n",
       " 'MergedResult',\n",
       " 'MetaData',\n",
       " 'NCHAR',\n",
       " 'NUMERIC',\n",
       " 'NVARCHAR',\n",
       " 'NestedTransaction',\n",
       " 'NotNullable',\n",
       " 'Null',\n",
       " 'NullPool',\n",
       " 'Nullable',\n",
       " 'Numeric',\n",
       " 'Operators',\n",
       " 'Over',\n",
       " 'PickleType',\n",
       " 'Pool',\n",
       " 'PoolProxiedConnection',\n",
       " 'PoolResetState',\n",
       " 'PrimaryKeyConstraint',\n",
       " 'QueuePool',\n",
       " 'REAL',\n",
       " 'ReleaseSavepointClause',\n",
       " 'Result',\n",
       " 'ResultProxy',\n",
       " 'ReturnsRows',\n",
       " 'RollbackToSavepointClause',\n",
       " 'RootTransaction',\n",
       " 'Row',\n",
       " 'RowMapping',\n",
       " 'SMALLINT',\n",
       " 'SQLColumnExpression',\n",
       " 'SavepointClause',\n",
       " 'ScalarResult',\n",
       " 'ScalarSelect',\n",
       " 'Select',\n",
       " 'SelectBase',\n",
       " 'SelectLabelStyle',\n",
       " 'Selectable',\n",
       " 'Sequence',\n",
       " 'SingletonThreadPool',\n",
       " 'SmallInteger',\n",
       " 'StatementLambdaElement',\n",
       " 'StaticPool',\n",
       " 'String',\n",
       " 'Subquery',\n",
       " 'TEXT',\n",
       " 'TIME',\n",
       " 'TIMESTAMP',\n",
       " 'Table',\n",
       " 'TableClause',\n",
       " 'TableSample',\n",
       " 'TableValuedAlias',\n",
       " 'Text',\n",
       " 'TextAsFrom',\n",
       " 'TextClause',\n",
       " 'TextualSelect',\n",
       " 'Time',\n",
       " 'Transaction',\n",
       " 'True_',\n",
       " 'TryCast',\n",
       " 'Tuple',\n",
       " 'TupleType',\n",
       " 'TwoPhaseTransaction',\n",
       " 'TypeClause',\n",
       " 'TypeCoerce',\n",
       " 'TypeCompiler',\n",
       " 'TypeDecorator',\n",
       " 'URL',\n",
       " 'UUID',\n",
       " 'UnaryExpression',\n",
       " 'Unicode',\n",
       " 'UnicodeText',\n",
       " 'UniqueConstraint',\n",
       " 'Update',\n",
       " 'UpdateBase',\n",
       " 'Uuid',\n",
       " 'VARBINARY',\n",
       " 'VARCHAR',\n",
       " 'Values',\n",
       " 'ValuesBase',\n",
       " 'Visitable',\n",
       " 'WithinGroup',\n",
       " '__builtins__',\n",
       " '__cached__',\n",
       " '__doc__',\n",
       " '__file__',\n",
       " '__getattr__',\n",
       " '__go',\n",
       " '__loader__',\n",
       " '__name__',\n",
       " '__package__',\n",
       " '__path__',\n",
       " '__spec__',\n",
       " '__version__',\n",
       " '_util',\n",
       " 'alias',\n",
       " 'all_',\n",
       " 'and_',\n",
       " 'annotations',\n",
       " 'any_',\n",
       " 'asc',\n",
       " 'between',\n",
       " 'bindparam',\n",
       " 'bitwise_not',\n",
       " 'case',\n",
       " 'cast',\n",
       " 'collate',\n",
       " 'column',\n",
       " 'create_engine',\n",
       " 'create_mock_engine',\n",
       " 'create_pool_from_url',\n",
       " 'cte',\n",
       " 'custom_op',\n",
       " 'cyextension',\n",
       " 'delete',\n",
       " 'desc',\n",
       " 'dialects',\n",
       " 'distinct',\n",
       " 'engine',\n",
       " 'engine_from_config',\n",
       " 'event',\n",
       " 'exc',\n",
       " 'except_',\n",
       " 'except_all',\n",
       " 'exists',\n",
       " 'extract',\n",
       " 'false',\n",
       " 'func',\n",
       " 'funcfilter',\n",
       " 'insert',\n",
       " 'insert_sentinel',\n",
       " 'inspect',\n",
       " 'inspection',\n",
       " 'intersect',\n",
       " 'intersect_all',\n",
       " 'join',\n",
       " 'label',\n",
       " 'lambda_stmt',\n",
       " 'lateral',\n",
       " 'literal',\n",
       " 'literal_column',\n",
       " 'log',\n",
       " 'make_url',\n",
       " 'modifier',\n",
       " 'not_',\n",
       " 'null',\n",
       " 'nulls_first',\n",
       " 'nulls_last',\n",
       " 'nullsfirst',\n",
       " 'nullslast',\n",
       " 'or_',\n",
       " 'outerjoin',\n",
       " 'outparam',\n",
       " 'over',\n",
       " 'pool',\n",
       " 'quoted_name',\n",
       " 'result_tuple',\n",
       " 'schema',\n",
       " 'select',\n",
       " 'sql',\n",
       " 'table',\n",
       " 'tablesample',\n",
       " 'text',\n",
       " 'true',\n",
       " 'try_cast',\n",
       " 'tuple_',\n",
       " 'type_coerce',\n",
       " 'types',\n",
       " 'union',\n",
       " 'union_all',\n",
       " 'update',\n",
       " 'util',\n",
       " 'values',\n",
       " 'within_group']"
      ]
     },
     "execution_count": 166,
     "metadata": {},
     "output_type": "execute_result"
    }
   ],
   "source": [
    "dir(db)"
   ]
  },
  {
   "cell_type": "code",
   "execution_count": 167,
   "metadata": {},
   "outputs": [],
   "source": [
    "deposits = db.Table(\n",
    "    'Deposit', metadata,\n",
    "    db.Column('id_crt', db.Integer, primary_key = True),\n",
    "    db.Column('id_clnt', db.Integer),\n",
    "    db.Column('id_currency', db.Integer),\n",
    "    db.Column('cur_perc', db.Integer),\n",
    "    db.Column('rest_od', db.Integer),\n",
    "    db.Column('rest_od_eq', db.Integer),    \n",
    "    db.Column('id_prod', db.Integer),\n",
    "    db.Column('id_cbu', db.Integer),\n",
    "    )"
   ]
  },
  {
   "cell_type": "code",
   "execution_count": 168,
   "metadata": {},
   "outputs": [],
   "source": [
    "currency = db.Table(\n",
    "    'Currency', metadata,\n",
    "    db.Column('id_currency', db.Integer),\n",
    "    db.Column('number_curr', db.Integer),\n",
    "    )"
   ]
  },
  {
   "cell_type": "code",
   "execution_count": 169,
   "metadata": {},
   "outputs": [],
   "source": [
    "clients = db.Table(\n",
    "    'Client', metadata,\n",
    "    db.Column('id_clnt', db.Integer),\n",
    "    db.Column('clnt_internal_num', db.Integer),\n",
    "    db.Column('name', db.Text),\n",
    "    db.Column('adress', db.Text),\n",
    "    db.Column('reg_number', db.Integer),\n",
    ")"
   ]
  },
  {
   "cell_type": "code",
   "execution_count": 170,
   "metadata": {},
   "outputs": [],
   "source": [
    "loans = db.Table(\n",
    "    'Loan', metadata,\n",
    "    db.Column('id_crt', db.Integer),\n",
    "    db.Column('id_clnt', db.Integer),\n",
    "    db.Column('id_curr', db.Integer),\n",
    "    db.Column('type_loan', db.Text),\n",
    "    db.Column('cur_percent', db.Integer),\n",
    "    db.Column('rest_od', db.Integer),\n",
    "    db.Column('rest_od_eq', db.Integer)    \n",
    ")"
   ]
  },
  {
   "cell_type": "code",
   "execution_count": 171,
   "metadata": {},
   "outputs": [],
   "source": [
    "metadata.create_all(engine)"
   ]
  },
  {
   "cell_type": "markdown",
   "metadata": {},
   "source": [
    "currency code 4 - 933\n",
    "currency code 3 - 840 - 3.2179\n",
    "currency code 2 - 978 - 3.492 \n",
    "currency code 1 - 643 - 0,035417"
   ]
  },
  {
   "cell_type": "code",
   "execution_count": 172,
   "metadata": {},
   "outputs": [],
   "source": [
    "insertion_1 = deposits.insert().values([\n",
    "    {'id_clnt': 2, 'id_currency': 4, 'cur_perc': 2, 'rest_od': 1200, 'rest_od_eq': 1200, 'id_prod': 1, 'id_cbu': 3},\n",
    "    {'id_clnt': 3, 'id_currency': 2, 'cur_perc': 1, 'rest_od': 100, 'rest_od_eq': 349.2, 'id_prod': 2, 'id_cbu': 2},\n",
    "    {'id_clnt': 1, 'id_currency': 4, 'cur_perc': 7, 'rest_od': 240, 'rest_od_eq': 240, 'id_prod': 3, 'id_cbu': 1},\n",
    "    {'id_clnt': 4, 'id_currency': 3, 'cur_perc': 15, 'rest_od': 1000, 'rest_od_eq': 3492, 'id_prod': 4, 'id_cbu': 3}\n",
    "])"
   ]
  },
  {
   "cell_type": "code",
   "execution_count": 173,
   "metadata": {},
   "outputs": [],
   "source": [
    "insertion_2 = currency.insert().values([\n",
    "    {'number_curr': 643},\n",
    "    {'number_curr': 978},\n",
    "    {'number_curr': 840},\n",
    "    {'number_curr': 933}\n",
    "])"
   ]
  },
  {
   "cell_type": "code",
   "execution_count": 174,
   "metadata": {},
   "outputs": [],
   "source": [
    "insertion_3 = clients.insert().values([\n",
    "    {'clnt_internal_num': 15432, 'name': 'ООО Ромашка', 'adress': 'г. Минск, ул. Кислева 31', 'reg_number': 75632},\n",
    "    {'clnt_internal_num': 2746, 'name': 'ОАО Пекин', 'adress': 'г. Минск, ул. Кислева 31', 'reg_number': 75632},\n",
    "    {'clnt_internal_num': 743, 'name': 'ЗАО Плюшевый медведь', 'adress': 'г. Минск, ул. Кислева 31', 'reg_number': 75632},\n",
    "    {'clnt_internal_num': 40684, 'name': 'ОАО Тюльпан', 'adress': 'г. Минск, ул. Кислева 31', 'reg_number': 75632},\n",
    "])"
   ]
  },
  {
   "cell_type": "code",
   "execution_count": 175,
   "metadata": {},
   "outputs": [],
   "source": [
    "insertion_4 = loans.insert().values([\n",
    "    {'id_clnt': 3, 'id_curr': 4, 'type_loan': 'Возобновляемая кредитная линия', 'cur_percent': 10, 'rest_od': 1000, 'rest_od_eq': 1000},\n",
    "    {'id_clnt': 2, 'id_curr': 3, 'type_loan': 'Возобновляемая кредитная линия', 'cur_percent': 10, 'rest_od': 1000, 'rest_od_eq': 3217.9},\n",
    "    {'id_clnt': 4, 'id_curr': 2, 'type_loan': 'Возобновляемая кредитная линия', 'cur_percent': 10, 'rest_od': 1000, 'rest_od_eq': 3492},\n",
    "    {'id_clnt': 1, 'id_curr': 4, 'type_loan': 'Возобновляемая кредитная линия', 'cur_percent': 10, 'rest_od': 12000, 'rest_od_eq': 12000},\n",
    "])"
   ]
  },
  {
   "cell_type": "code",
   "execution_count": 176,
   "metadata": {},
   "outputs": [
    {
     "data": {
      "text/plain": [
       "<sqlalchemy.engine.cursor.CursorResult at 0x10cdcc8e0>"
      ]
     },
     "execution_count": 176,
     "metadata": {},
     "output_type": "execute_result"
    }
   ],
   "source": [
    "conn.execute(insertion_1)\n",
    "conn.execute(insertion_2)\n",
    "conn.execute(insertion_3)\n",
    "conn.execute(insertion_4)"
   ]
  },
  {
   "cell_type": "code",
   "execution_count": 177,
   "metadata": {},
   "outputs": [
    {
     "data": {
      "text/plain": [
       "<sqlalchemy.engine.cursor.CursorResult at 0x10d1a6200>"
      ]
     },
     "execution_count": 177,
     "metadata": {},
     "output_type": "execute_result"
    }
   ],
   "source": [
    "select_all_query = db.select(deposits)\n",
    "select_result = conn.execute(select_all_query)\n",
    "select_result"
   ]
  },
  {
   "cell_type": "code",
   "execution_count": 178,
   "metadata": {},
   "outputs": [
    {
     "data": {
      "text/plain": [
       "[(1, 2, 4, 2, 1200, 1200, 1, 3),\n",
       " (2, 3, 2, 1, 100, 349.2, 2, 2),\n",
       " (3, 1, 4, 7, 240, 240, 3, 1),\n",
       " (4, 4, 3, 15, 1000, 3492, 4, 3)]"
      ]
     },
     "execution_count": 178,
     "metadata": {},
     "output_type": "execute_result"
    }
   ],
   "source": [
    "select_result.fetchall()"
   ]
  }
 ],
 "metadata": {
  "kernelspec": {
   "display_name": "base",
   "language": "python",
   "name": "python3"
  },
  "language_info": {
   "codemirror_mode": {
    "name": "ipython",
    "version": 3
   },
   "file_extension": ".py",
   "mimetype": "text/x-python",
   "name": "python",
   "nbconvert_exporter": "python",
   "pygments_lexer": "ipython3",
   "version": "3.10.10"
  }
 },
 "nbformat": 4,
 "nbformat_minor": 2
}
