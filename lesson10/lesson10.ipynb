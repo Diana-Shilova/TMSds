{
 "cells": [
  {
   "cell_type": "code",
   "execution_count": 392,
   "metadata": {},
   "outputs": [],
   "source": [
    "import sqlalchemy as db\n",
    "from sqlalchemy.orm import Session, sessionmaker\n",
    "from sqlalchemy import select, join"
   ]
  },
  {
   "cell_type": "code",
   "execution_count": 393,
   "metadata": {},
   "outputs": [
    {
     "data": {
      "text/plain": [
       "'2.0.27'"
      ]
     },
     "execution_count": 393,
     "metadata": {},
     "output_type": "execute_result"
    }
   ],
   "source": [
    "db.__version__"
   ]
  },
  {
   "cell_type": "code",
   "execution_count": 394,
   "metadata": {},
   "outputs": [],
   "source": [
    "engine = db.create_engine('sqlite:///test_db.db')"
   ]
  },
  {
   "cell_type": "code",
   "execution_count": 395,
   "metadata": {},
   "outputs": [],
   "source": [
    "conn = engine.connect()"
   ]
  },
  {
   "cell_type": "code",
   "execution_count": 396,
   "metadata": {},
   "outputs": [],
   "source": [
    "metadata = db.MetaData()"
   ]
  },
  {
   "cell_type": "code",
   "execution_count": 397,
   "metadata": {},
   "outputs": [],
   "source": [
    "#dir(db)"
   ]
  },
  {
   "cell_type": "code",
   "execution_count": 398,
   "metadata": {},
   "outputs": [],
   "source": [
    "deposits = db.Table(\n",
    "    'Deposit', metadata,\n",
    "    db.Column('id_crt', db.Integer, primary_key = True),\n",
    "    db.Column('id_clnt', db.Integer),\n",
    "    db.Column('id_currency', db.Integer),\n",
    "    db.Column('cur_perc', db.Integer),\n",
    "    db.Column('rest_od', db.Integer),\n",
    "    db.Column('rest_od_eq', db.Integer),    \n",
    "    db.Column('id_prod', db.Integer),\n",
    "    db.Column('id_cbu', db.Integer),\n",
    "    )\n",
    "\n",
    "currency = db.Table(\n",
    "    'Currency', metadata,\n",
    "    db.Column('id_currency', db.Integer, primary_key = True),\n",
    "    db.Column('number_curr', db.Integer),\n",
    "    )\n",
    "\n",
    "clients = db.Table(\n",
    "    'Client', metadata,\n",
    "    db.Column('id_clnt', db.Integer, primary_key = True),\n",
    "    db.Column('clnt_internal_num', db.Integer),\n",
    "    db.Column('name', db.Text),\n",
    "    db.Column('adress', db.Text),\n",
    "    db.Column('reg_number', db.Integer),\n",
    "    )\n",
    "\n",
    "loans = db.Table(\n",
    "    'Loan', metadata,\n",
    "    db.Column('id_crt', db.Integer, primary_key = True),\n",
    "    db.Column('id_clnt', db.Integer),\n",
    "    db.Column('id_currency', db.Integer),\n",
    "    db.Column('type_loan', db.Text),\n",
    "    db.Column('cur_percent', db.Integer),\n",
    "    db.Column('rest_od', db.Integer),\n",
    "    db.Column('rest_od_eq', db.Integer)    \n",
    "    )"
   ]
  },
  {
   "cell_type": "code",
   "execution_count": 399,
   "metadata": {},
   "outputs": [],
   "source": [
    "metadata.create_all(engine)"
   ]
  },
  {
   "cell_type": "markdown",
   "metadata": {},
   "source": [
    "currency code 4 - 933\n",
    "currency code 3 - 840 - 3.2179\n",
    "currency code 2 - 978 - 3.492 \n",
    "currency code 1 - 643 - 0,035417"
   ]
  },
  {
   "cell_type": "code",
   "execution_count": 400,
   "metadata": {},
   "outputs": [],
   "source": [
    "insertion_1 = deposits.insert().values([\n",
    "    {'id_clnt': 2, 'id_currency': 4, 'cur_perc': 2, 'rest_od': 1200, 'rest_od_eq': 1200, 'id_prod': 1, 'id_cbu': 3},\n",
    "    {'id_clnt': 3, 'id_currency': 2, 'cur_perc': 1, 'rest_od': 100, 'rest_od_eq': 349.2, 'id_prod': 2, 'id_cbu': 2},\n",
    "    {'id_clnt': 1, 'id_currency': 4, 'cur_perc': 7, 'rest_od': 240, 'rest_od_eq': 240, 'id_prod': 3, 'id_cbu': 1},\n",
    "    {'id_clnt': 4, 'id_currency': 3, 'cur_perc': 15, 'rest_od': 1000, 'rest_od_eq': 3492, 'id_prod': 4, 'id_cbu': 3}\n",
    "])"
   ]
  },
  {
   "cell_type": "code",
   "execution_count": 401,
   "metadata": {},
   "outputs": [
    {
     "data": {
      "text/plain": [
       "<sqlalchemy.engine.cursor.CursorResult at 0x118f00a60>"
      ]
     },
     "execution_count": 401,
     "metadata": {},
     "output_type": "execute_result"
    }
   ],
   "source": [
    "conn.execute(insertion_1)"
   ]
  },
  {
   "cell_type": "code",
   "execution_count": 402,
   "metadata": {},
   "outputs": [],
   "source": [
    "insertion_2 = currency.insert().values([\n",
    "    {'number_curr': 643},\n",
    "    {'number_curr': 978},\n",
    "    {'number_curr': 840},\n",
    "    {'number_curr': 933}\n",
    "])"
   ]
  },
  {
   "cell_type": "code",
   "execution_count": 403,
   "metadata": {},
   "outputs": [
    {
     "data": {
      "text/plain": [
       "<sqlalchemy.engine.cursor.CursorResult at 0x118f54ee0>"
      ]
     },
     "execution_count": 403,
     "metadata": {},
     "output_type": "execute_result"
    }
   ],
   "source": [
    "conn.execute(insertion_2)"
   ]
  },
  {
   "cell_type": "code",
   "execution_count": 404,
   "metadata": {},
   "outputs": [],
   "source": [
    "insertion_3 = clients.insert().values([\n",
    "    {'clnt_internal_num': 15432, 'name': 'ООО Ромашка', 'adress': 'г. Минск, ул. Кислева 31', 'reg_number': 75632},\n",
    "    {'clnt_internal_num': 2746, 'name': 'ОАО Пекин', 'adress': 'г. Минск, ул. Калинина 53', 'reg_number': 5474},\n",
    "    {'clnt_internal_num': 743, 'name': 'ЗАО Плюшевый медведь', 'adress': 'г. Минск, ул. Хабаровская 91', 'reg_number': 59483},\n",
    "    {'clnt_internal_num': 40684, 'name': 'ОАО Тюльпан', 'adress': 'г. Минск, ул. Щукина 78', 'reg_number': 12749},\n",
    "])"
   ]
  },
  {
   "cell_type": "code",
   "execution_count": 405,
   "metadata": {},
   "outputs": [
    {
     "data": {
      "text/plain": [
       "<sqlalchemy.engine.cursor.CursorResult at 0x118d4fe80>"
      ]
     },
     "execution_count": 405,
     "metadata": {},
     "output_type": "execute_result"
    }
   ],
   "source": [
    "conn.execute(insertion_3)"
   ]
  },
  {
   "cell_type": "code",
   "execution_count": 406,
   "metadata": {},
   "outputs": [],
   "source": [
    "insertion_4 = loans.insert().values([\n",
    "    {'id_clnt': 3, 'id_currency': 4, 'type_loan': 'Возобновляемая кредитная линия', 'cur_percent': 6, 'rest_od': 1000, 'rest_od_eq': 1000},\n",
    "    {'id_clnt': 2, 'id_currency': 3, 'type_loan': 'Кредитная линия', 'cur_percent': 10, 'rest_od': 1000, 'rest_od_eq': 3217.9},\n",
    "    {'id_clnt': 4, 'id_currency': 2, 'type_loan': 'Невозобновляемая кредитная линия', 'cur_percent': 5, 'rest_od': 1000, 'rest_od_eq': 3492},\n",
    "    {'id_clnt': 4, 'id_currency': 4, 'type_loan': 'Кредитная линия', 'cur_percent': 15, 'rest_od': 12000, 'rest_od_eq': 12000},\n",
    "])"
   ]
  },
  {
   "cell_type": "code",
   "execution_count": 407,
   "metadata": {},
   "outputs": [
    {
     "data": {
      "text/plain": [
       "<sqlalchemy.engine.cursor.CursorResult at 0x118ca3580>"
      ]
     },
     "execution_count": 407,
     "metadata": {},
     "output_type": "execute_result"
    }
   ],
   "source": [
    "conn.execute(insertion_4)"
   ]
  },
  {
   "cell_type": "code",
   "execution_count": 412,
   "metadata": {},
   "outputs": [
    {
     "data": {
      "text/plain": [
       "<sqlalchemy.engine.cursor.CursorResult at 0x118f57580>"
      ]
     },
     "execution_count": 412,
     "metadata": {},
     "output_type": "execute_result"
    }
   ],
   "source": [
    "select_all_query = db.select(deposits)\n",
    "select_result = conn.execute(select_all_query)\n",
    "select_result"
   ]
  },
  {
   "cell_type": "code",
   "execution_count": 413,
   "metadata": {},
   "outputs": [
    {
     "data": {
      "text/plain": [
       "[(1, 2, 4, 2, 1200, 1200, 1, 3),\n",
       " (2, 3, 2, 1, 100, 349.2, 2, 2),\n",
       " (3, 1, 4, 7, 240, 240, 3, 1),\n",
       " (4, 4, 3, 15, 1000, 3492, 4, 3)]"
      ]
     },
     "execution_count": 413,
     "metadata": {},
     "output_type": "execute_result"
    }
   ],
   "source": [
    "select_result.fetchall()"
   ]
  },
  {
   "cell_type": "code",
   "execution_count": 417,
   "metadata": {},
   "outputs": [
    {
     "data": {
      "text/plain": [
       "[(1, 2, 4, 2, 1200, 1200, 1, 3, 4, 933),\n",
       " (2, 3, 2, 1, 100, 349.2, 2, 2, 2, 978),\n",
       " (3, 1, 4, 7, 240, 240, 3, 1, 4, 933),\n",
       " (4, 4, 3, 15, 1000, 3492, 4, 3, 3, 840)]"
      ]
     },
     "execution_count": 417,
     "metadata": {},
     "output_type": "execute_result"
    }
   ],
   "source": [
    "left_join = db.select(deposits, currency).where(deposits.c.id_currency == currency.c.id_currency)\n",
    "result = conn.execute(left_join)\n",
    "result.fetchall()"
   ]
  },
  {
   "cell_type": "code",
   "execution_count": null,
   "metadata": {},
   "outputs": [],
   "source": []
  }
 ],
 "metadata": {
  "kernelspec": {
   "display_name": "base",
   "language": "python",
   "name": "python3"
  },
  "language_info": {
   "codemirror_mode": {
    "name": "ipython",
    "version": 3
   },
   "file_extension": ".py",
   "mimetype": "text/x-python",
   "name": "python",
   "nbconvert_exporter": "python",
   "pygments_lexer": "ipython3",
   "version": "3.10.10"
  }
 },
 "nbformat": 4,
 "nbformat_minor": 2
}
